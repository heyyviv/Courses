{
  "cells": [
    {
      "cell_type": "code",
      "execution_count": 1,
      "id": "3d0b027b",
      "metadata": {
        "id": "3d0b027b",
        "colab": {
          "base_uri": "https://localhost:8080/"
        },
        "outputId": "244cca55-764f-4425-be08-548640c83b6e"
      },
      "outputs": [
        {
          "output_type": "stream",
          "name": "stdout",
          "text": [
            "Collecting ucimlrepo\n",
            "  Downloading ucimlrepo-0.0.3-py3-none-any.whl (7.0 kB)\n",
            "Installing collected packages: ucimlrepo\n",
            "Successfully installed ucimlrepo-0.0.3\n"
          ]
        }
      ],
      "source": [
        "!pip install ucimlrepo\n",
        "from ucimlrepo import fetch_ucirepo\n",
        "import matplotlib.pyplot as plt\n",
        "import pandas as pd\n",
        "import numpy as np\n",
        "from sklearn import datasets\n",
        "from sklearn.model_selection import train_test_split\n",
        "from sklearn.svm import SVC\n",
        "from sklearn.metrics import accuracy_score, precision_score, recall_score, f1_score"
      ]
    },
    {
      "cell_type": "code",
      "execution_count": 3,
      "id": "221f2445",
      "metadata": {
        "id": "221f2445"
      },
      "outputs": [],
      "source": [
        "# fetch dataset\n",
        "spambase = fetch_ucirepo(id=94)"
      ]
    },
    {
      "cell_type": "code",
      "execution_count": 4,
      "id": "c1827490",
      "metadata": {
        "id": "c1827490"
      },
      "outputs": [],
      "source": [
        "# data (as pandas dataframes)\n",
        "X = spambase.data.features\n",
        "y = spambase.data.targets"
      ]
    },
    {
      "cell_type": "code",
      "execution_count": 5,
      "id": "5312696d",
      "metadata": {
        "id": "5312696d",
        "colab": {
          "base_uri": "https://localhost:8080/"
        },
        "outputId": "060ef0bf-9435-4360-d04c-ce36de808a45"
      },
      "outputs": [
        {
          "output_type": "stream",
          "name": "stdout",
          "text": [
            "                          name     role        type demographic  \\\n",
            "0               word_freq_make  Feature  Continuous        None   \n",
            "1            word_freq_address  Feature  Continuous        None   \n",
            "2                word_freq_all  Feature  Continuous        None   \n",
            "3                 word_freq_3d  Feature  Continuous        None   \n",
            "4                word_freq_our  Feature  Continuous        None   \n",
            "5               word_freq_over  Feature  Continuous        None   \n",
            "6             word_freq_remove  Feature  Continuous        None   \n",
            "7           word_freq_internet  Feature  Continuous        None   \n",
            "8              word_freq_order  Feature  Continuous        None   \n",
            "9               word_freq_mail  Feature  Continuous        None   \n",
            "10           word_freq_receive  Feature  Continuous        None   \n",
            "11              word_freq_will  Feature  Continuous        None   \n",
            "12            word_freq_people  Feature  Continuous        None   \n",
            "13            word_freq_report  Feature  Continuous        None   \n",
            "14         word_freq_addresses  Feature  Continuous        None   \n",
            "15              word_freq_free  Feature  Continuous        None   \n",
            "16          word_freq_business  Feature  Continuous        None   \n",
            "17             word_freq_email  Feature  Continuous        None   \n",
            "18               word_freq_you  Feature  Continuous        None   \n",
            "19            word_freq_credit  Feature  Continuous        None   \n",
            "20              word_freq_your  Feature  Continuous        None   \n",
            "21              word_freq_font  Feature  Continuous        None   \n",
            "22               word_freq_000  Feature  Continuous        None   \n",
            "23             word_freq_money  Feature  Continuous        None   \n",
            "24                word_freq_hp  Feature  Continuous        None   \n",
            "25               word_freq_hpl  Feature  Continuous        None   \n",
            "26            word_freq_george  Feature  Continuous        None   \n",
            "27               word_freq_650  Feature  Continuous        None   \n",
            "28               word_freq_lab  Feature  Continuous        None   \n",
            "29              word_freq_labs  Feature  Continuous        None   \n",
            "30            word_freq_telnet  Feature  Continuous        None   \n",
            "31               word_freq_857  Feature  Continuous        None   \n",
            "32              word_freq_data  Feature  Continuous        None   \n",
            "33               word_freq_415  Feature  Continuous        None   \n",
            "34                word_freq_85  Feature  Continuous        None   \n",
            "35        word_freq_technology  Feature  Continuous        None   \n",
            "36              word_freq_1999  Feature  Continuous        None   \n",
            "37             word_freq_parts  Feature  Continuous        None   \n",
            "38                word_freq_pm  Feature  Continuous        None   \n",
            "39            word_freq_direct  Feature  Continuous        None   \n",
            "40                word_freq_cs  Feature  Continuous        None   \n",
            "41           word_freq_meeting  Feature  Continuous        None   \n",
            "42          word_freq_original  Feature  Continuous        None   \n",
            "43           word_freq_project  Feature  Continuous        None   \n",
            "44                word_freq_re  Feature  Continuous        None   \n",
            "45               word_freq_edu  Feature  Continuous        None   \n",
            "46             word_freq_table  Feature  Continuous        None   \n",
            "47        word_freq_conference  Feature  Continuous        None   \n",
            "48                 char_freq_;  Feature  Continuous        None   \n",
            "49                 char_freq_(  Feature  Continuous        None   \n",
            "50                 char_freq_[  Feature  Continuous        None   \n",
            "51                 char_freq_!  Feature  Continuous        None   \n",
            "52                 char_freq_$  Feature  Continuous        None   \n",
            "53                 char_freq_#  Feature  Continuous        None   \n",
            "54  capital_run_length_average  Feature  Continuous        None   \n",
            "55  capital_run_length_longest  Feature  Continuous        None   \n",
            "56    capital_run_length_total  Feature  Continuous        None   \n",
            "57                       Class   Target      Binary        None   \n",
            "\n",
            "                 description units missing_values  \n",
            "0                       None  None             no  \n",
            "1                       None  None             no  \n",
            "2                       None  None             no  \n",
            "3                       None  None             no  \n",
            "4                       None  None             no  \n",
            "5                       None  None             no  \n",
            "6                       None  None             no  \n",
            "7                       None  None             no  \n",
            "8                       None  None             no  \n",
            "9                       None  None             no  \n",
            "10                      None  None             no  \n",
            "11                      None  None             no  \n",
            "12                      None  None             no  \n",
            "13                      None  None             no  \n",
            "14                      None  None             no  \n",
            "15                      None  None             no  \n",
            "16                      None  None             no  \n",
            "17                      None  None             no  \n",
            "18                      None  None             no  \n",
            "19                      None  None             no  \n",
            "20                      None  None             no  \n",
            "21                      None  None             no  \n",
            "22                      None  None             no  \n",
            "23                      None  None             no  \n",
            "24                      None  None             no  \n",
            "25                      None  None             no  \n",
            "26                      None  None             no  \n",
            "27                      None  None             no  \n",
            "28                      None  None             no  \n",
            "29                      None  None             no  \n",
            "30                      None  None             no  \n",
            "31                      None  None             no  \n",
            "32                      None  None             no  \n",
            "33                      None  None             no  \n",
            "34                      None  None             no  \n",
            "35                      None  None             no  \n",
            "36                      None  None             no  \n",
            "37                      None  None             no  \n",
            "38                      None  None             no  \n",
            "39                      None  None             no  \n",
            "40                      None  None             no  \n",
            "41                      None  None             no  \n",
            "42                      None  None             no  \n",
            "43                      None  None             no  \n",
            "44                      None  None             no  \n",
            "45                      None  None             no  \n",
            "46                      None  None             no  \n",
            "47                      None  None             no  \n",
            "48                      None  None             no  \n",
            "49                      None  None             no  \n",
            "50                      None  None             no  \n",
            "51                      None  None             no  \n",
            "52                      None  None             no  \n",
            "53                      None  None             no  \n",
            "54                      None  None             no  \n",
            "55                      None  None             no  \n",
            "56                      None  None             no  \n",
            "57  spam (1) or not spam (0)  None             no  \n"
          ]
        }
      ],
      "source": [
        "# variable information\n",
        "print(spambase.variables)"
      ]
    },
    {
      "cell_type": "code",
      "execution_count": 6,
      "id": "43a7bafd",
      "metadata": {
        "id": "43a7bafd"
      },
      "outputs": [],
      "source": [
        "X_train, X_test, y_train, y_test = train_test_split(X, y, test_size=0.2, random_state=41)"
      ]
    },
    {
      "cell_type": "code",
      "execution_count": 14,
      "id": "24c927e6",
      "metadata": {
        "id": "24c927e6"
      },
      "outputs": [],
      "source": [
        "Accuracy=[]\n",
        "regularization=[0,0.001,0.1,1,10,100]"
      ]
    },
    {
      "cell_type": "code",
      "execution_count": null,
      "id": "9f206537",
      "metadata": {
        "id": "9f206537",
        "colab": {
          "base_uri": "https://localhost:8080/"
        },
        "outputId": "bde048e4-2b21-4ccb-a53a-ae6a5d5e4458"
      },
      "outputs": [
        {
          "output_type": "stream",
          "name": "stdout",
          "text": [
            "(3680, 1)\n"
          ]
        }
      ],
      "source": [
        "print(y_train.shape)\n",
        "y_train = y_train.to_numpy().ravel()\n",
        "y_test = y_test.to_numpy().ravel()"
      ]
    },
    {
      "cell_type": "code",
      "execution_count": 15,
      "id": "f77df2bc",
      "metadata": {
        "id": "f77df2bc"
      },
      "outputs": [],
      "source": [
        "def metrics(y_test,y_pred):\n",
        "    # Calculate accuracy\n",
        "    accuracy = accuracy_score(y_test, y_pred)\n",
        "\n",
        "    # Calculate precision\n",
        "    precision = precision_score(y_test, y_pred)\n",
        "\n",
        "    # Calculate recall\n",
        "    recall = recall_score(y_test, y_pred)\n",
        "\n",
        "    # Calculate F1-score\n",
        "    f1 = f1_score(y_test, y_pred)\n",
        "\n",
        "    print(\"Accuracy:\", accuracy)\n",
        "    print(\"Precision:\", precision)\n",
        "    print(\"Recall:\", recall)\n",
        "    print(\"F1-Score:\", f1)\n",
        "    Accuracy.append(accuracy)\n",
        "\n"
      ]
    },
    {
      "cell_type": "markdown",
      "source": [
        "# Without Regularization"
      ],
      "metadata": {
        "id": "Qkuug-KiYV6B"
      },
      "id": "Qkuug-KiYV6B"
    },
    {
      "cell_type": "code",
      "source": [
        "svm_classifier = SVC(kernel='linear', random_state=42)\n",
        "svm_classifier.fit(X_train, y_train)\n",
        "y_pred = svm_classifier.predict(X_test)\n",
        "metrics(y_test,y_pred)"
      ],
      "metadata": {
        "id": "Hn6UoYuhYLV6",
        "colab": {
          "base_uri": "https://localhost:8080/"
        },
        "outputId": "aac902a5-94ca-4947-b2e3-eb92a763dbef"
      },
      "id": "Hn6UoYuhYLV6",
      "execution_count": null,
      "outputs": [
        {
          "output_type": "stream",
          "name": "stdout",
          "text": [
            "Accuracy: 0.9457111834961998\n",
            "Precision: 0.9393139841688655\n",
            "Recall: 0.9295039164490861\n",
            "F1-Score: 0.9343832020997375\n"
          ]
        }
      ]
    },
    {
      "cell_type": "markdown",
      "id": "124a96df",
      "metadata": {
        "id": "124a96df"
      },
      "source": [
        "<h2> Regularization 0.001 <h2>"
      ]
    },
    {
      "cell_type": "code",
      "execution_count": null,
      "id": "f88df061",
      "metadata": {
        "id": "f88df061"
      },
      "outputs": [],
      "source": [
        "svm_classifier = SVC(C=0.001, kernel='linear', random_state=42)\n",
        "svm_classifier.fit(X_train, y_train)\n",
        "y_pred = svm_classifier.predict(X_test)"
      ]
    },
    {
      "cell_type": "code",
      "execution_count": null,
      "id": "9ef05bd9",
      "metadata": {
        "id": "9ef05bd9",
        "colab": {
          "base_uri": "https://localhost:8080/"
        },
        "outputId": "85587021-0335-4056-910e-33a4fc78372e"
      },
      "outputs": [
        {
          "output_type": "stream",
          "name": "stdout",
          "text": [
            "Accuracy: 0.8849077090119435\n",
            "Precision: 0.9037900874635568\n",
            "Recall: 0.8093994778067886\n",
            "F1-Score: 0.8539944903581267\n"
          ]
        }
      ],
      "source": [
        "metrics(y_test,y_pred)"
      ]
    },
    {
      "cell_type": "markdown",
      "id": "1aea4ea1",
      "metadata": {
        "id": "1aea4ea1"
      },
      "source": [
        "<h2> Regularization 0.01 <h2>"
      ]
    },
    {
      "cell_type": "code",
      "execution_count": null,
      "id": "199ca755",
      "metadata": {
        "id": "199ca755"
      },
      "outputs": [],
      "source": [
        "svm_classifier = SVC(C=0.1, kernel='linear', random_state=42)\n",
        "svm_classifier.fit(X_train, y_train)\n",
        "y_pred = svm_classifier.predict(X_test)"
      ]
    },
    {
      "cell_type": "code",
      "execution_count": null,
      "id": "3132bc59",
      "metadata": {
        "id": "3132bc59",
        "colab": {
          "base_uri": "https://localhost:8080/"
        },
        "outputId": "44da1d92-fb1a-49e9-91e2-7a83a47363f6"
      },
      "outputs": [
        {
          "output_type": "stream",
          "name": "stdout",
          "text": [
            "Accuracy: 0.9446254071661238\n",
            "Precision: 0.9414893617021277\n",
            "Recall: 0.9242819843342036\n",
            "F1-Score: 0.932806324110672\n"
          ]
        }
      ],
      "source": [
        "metrics(y_test,y_pred)"
      ]
    },
    {
      "cell_type": "markdown",
      "id": "007505d0",
      "metadata": {
        "id": "007505d0"
      },
      "source": [
        "<h2> Regularization  1 </h2>"
      ]
    },
    {
      "cell_type": "code",
      "execution_count": null,
      "id": "fecc2656",
      "metadata": {
        "id": "fecc2656"
      },
      "outputs": [],
      "source": [
        "svm_classifier = SVC(C=1, kernel='linear', random_state=42)\n",
        "svm_classifier.fit(X_train, y_train)\n",
        "y_pred = svm_classifier.predict(X_test)"
      ]
    },
    {
      "cell_type": "code",
      "execution_count": null,
      "id": "3155f825",
      "metadata": {
        "id": "3155f825",
        "colab": {
          "base_uri": "https://localhost:8080/"
        },
        "outputId": "ec9787c3-3c93-4b19-852c-0fba386c93ee"
      },
      "outputs": [
        {
          "output_type": "stream",
          "name": "stdout",
          "text": [
            "Accuracy: 0.9457111834961998\n",
            "Precision: 0.9393139841688655\n",
            "Recall: 0.9295039164490861\n",
            "F1-Score: 0.9343832020997375\n"
          ]
        }
      ],
      "source": [
        "metrics(y_test,y_pred)"
      ]
    },
    {
      "cell_type": "markdown",
      "id": "33aa2a28",
      "metadata": {
        "id": "33aa2a28"
      },
      "source": [
        "<h2> regularization 10 <h2>"
      ]
    },
    {
      "cell_type": "code",
      "execution_count": null,
      "id": "f0da4994",
      "metadata": {
        "id": "f0da4994"
      },
      "outputs": [],
      "source": [
        "svm_classifier = SVC(C=10, kernel='linear', random_state=42)\n",
        "svm_classifier.fit(X_train, y_train)\n",
        "y_pred = svm_classifier.predict(X_test)"
      ]
    },
    {
      "cell_type": "code",
      "execution_count": null,
      "id": "fee4ab70",
      "metadata": {
        "id": "fee4ab70",
        "colab": {
          "base_uri": "https://localhost:8080/"
        },
        "outputId": "808f6cdf-67a4-40a5-c61b-43ef9e7dc75a"
      },
      "outputs": [
        {
          "output_type": "stream",
          "name": "stdout",
          "text": [
            "Accuracy: 0.9424538545059717\n",
            "Precision: 0.9319371727748691\n",
            "Recall: 0.9295039164490861\n",
            "F1-Score: 0.930718954248366\n"
          ]
        }
      ],
      "source": [
        "metrics(y_test,y_pred)"
      ]
    },
    {
      "cell_type": "markdown",
      "id": "e702d8fe",
      "metadata": {
        "id": "e702d8fe"
      },
      "source": [
        "<h2>  regularization 100 </h2>"
      ]
    },
    {
      "cell_type": "code",
      "execution_count": null,
      "id": "a5423e4a",
      "metadata": {
        "id": "a5423e4a"
      },
      "outputs": [],
      "source": [
        "svm_classifier = SVC(C=100, kernel='linear', random_state=42)\n",
        "svm_classifier.fit(X_train, y_train)\n",
        "y_pred = svm_classifier.predict(X_test)"
      ]
    },
    {
      "cell_type": "code",
      "execution_count": null,
      "id": "cd71ea2f",
      "metadata": {
        "id": "cd71ea2f",
        "colab": {
          "base_uri": "https://localhost:8080/"
        },
        "outputId": "a5e5b1ff-9c71-4cb0-e9e9-9f0a106d8b44"
      },
      "outputs": [
        {
          "output_type": "stream",
          "name": "stdout",
          "text": [
            "Accuracy: 0.9250814332247557\n",
            "Precision: 0.9005102040816326\n",
            "Recall: 0.9216710182767625\n",
            "F1-Score: 0.9109677419354839\n"
          ]
        }
      ],
      "source": [
        "metrics(y_test,y_pred)"
      ]
    },
    {
      "cell_type": "code",
      "execution_count": null,
      "id": "659244fa",
      "metadata": {
        "id": "659244fa",
        "colab": {
          "base_uri": "https://localhost:8080/",
          "height": 472
        },
        "outputId": "f6755447-515c-492b-e736-2881f6e12252"
      },
      "outputs": [
        {
          "output_type": "display_data",
          "data": {
            "text/plain": [
              "<Figure size 640x480 with 1 Axes>"
            ],
            "image/png": "[encoded data removed]"
          },
          "metadata": {}
        }
      ],
      "source": [
        "plt.plot(regularization, Accuracy)\n",
        "plt.xlabel('regularization Label')\n",
        "plt.ylabel('Accuracy Label')\n",
        "plt.title('Line Plot Example')\n",
        "plt.show()"
      ]
    },
    {
      "cell_type": "markdown",
      "id": "dcc5cb44",
      "metadata": {
        "id": "dcc5cb44"
      },
      "source": [
        "# kernel Tricks"
      ]
    },
    {
      "cell_type": "code",
      "execution_count": 16,
      "id": "14b14f05",
      "metadata": {
        "id": "14b14f05"
      },
      "outputs": [],
      "source": [
        "Accuracy=[]\n",
        "x_labels=['poly degree 2','poly degree 3','sigmoid','RBF']"
      ]
    },
    {
      "cell_type": "code",
      "execution_count": 17,
      "id": "6ad72cde",
      "metadata": {
        "id": "6ad72cde",
        "colab": {
          "base_uri": "https://localhost:8080/"
        },
        "outputId": "f5ddcdc9-8c8a-4850-ff27-f71f3b83eb7a"
      },
      "outputs": [
        {
          "output_type": "stream",
          "name": "stderr",
          "text": [
            "/usr/local/lib/python3.10/dist-packages/sklearn/utils/validation.py:1143: DataConversionWarning: A column-vector y was passed when a 1d array was expected. Please change the shape of y to (n_samples, ), for example using ravel().\n",
            "  y = column_or_1d(y, warn=True)\n"
          ]
        },
        {
          "output_type": "stream",
          "name": "stdout",
          "text": [
            "Accuracy: 0.6579804560260586\n",
            "Precision: 0.8695652173913043\n",
            "Recall: 0.20887728459530025\n",
            "F1-Score: 0.3368421052631579\n"
          ]
        }
      ],
      "source": [
        "svm_classifier = SVC(C=1, kernel='poly',degree = 2, random_state=42)\n",
        "svm_classifier.fit(X_train, y_train)\n",
        "y_pred = svm_classifier.predict(X_test)\n",
        "metrics(y_test,y_pred)"
      ]
    },
    {
      "cell_type": "code",
      "execution_count": 18,
      "id": "bd45d46e",
      "metadata": {
        "id": "bd45d46e",
        "colab": {
          "base_uri": "https://localhost:8080/"
        },
        "outputId": "3817213b-3687-4d25-a05e-b349efb73baf"
      },
      "outputs": [
        {
          "output_type": "stream",
          "name": "stderr",
          "text": [
            "/usr/local/lib/python3.10/dist-packages/sklearn/utils/validation.py:1143: DataConversionWarning: A column-vector y was passed when a 1d array was expected. Please change the shape of y to (n_samples, ), for example using ravel().\n",
            "  y = column_or_1d(y, warn=True)\n"
          ]
        },
        {
          "output_type": "stream",
          "name": "stdout",
          "text": [
            "Accuracy: 0.6362649294245385\n",
            "Precision: 0.9615384615384616\n",
            "Recall: 0.13054830287206268\n",
            "F1-Score: 0.2298850574712644\n"
          ]
        }
      ],
      "source": [
        "svm_classifier = SVC(C=1, kernel='poly',degree = 3, random_state=42)\n",
        "svm_classifier.fit(X_train, y_train)\n",
        "y_pred = svm_classifier.predict(X_test)\n",
        "metrics(y_test,y_pred)"
      ]
    },
    {
      "cell_type": "code",
      "execution_count": 19,
      "id": "3ed4db53",
      "metadata": {
        "id": "3ed4db53",
        "colab": {
          "base_uri": "https://localhost:8080/"
        },
        "outputId": "c1fddc04-804a-4b18-e6f0-a67a0c8a6da2"
      },
      "outputs": [
        {
          "output_type": "stream",
          "name": "stderr",
          "text": [
            "/usr/local/lib/python3.10/dist-packages/sklearn/utils/validation.py:1143: DataConversionWarning: A column-vector y was passed when a 1d array was expected. Please change the shape of y to (n_samples, ), for example using ravel().\n",
            "  y = column_or_1d(y, warn=True)\n"
          ]
        },
        {
          "output_type": "stream",
          "name": "stdout",
          "text": [
            "Accuracy: 0.6384364820846905\n",
            "Precision: 0.5672043010752689\n",
            "Recall: 0.5509138381201044\n",
            "F1-Score: 0.5589403973509933\n"
          ]
        }
      ],
      "source": [
        "svm_classifier = SVC(C=1, kernel='sigmoid',random_state=42)\n",
        "svm_classifier.fit(X_train, y_train)\n",
        "y_pred = svm_classifier.predict(X_test)\n",
        "metrics(y_test,y_pred)"
      ]
    },
    {
      "cell_type": "code",
      "execution_count": 20,
      "id": "b330b50d",
      "metadata": {
        "id": "b330b50d",
        "colab": {
          "base_uri": "https://localhost:8080/"
        },
        "outputId": "4dc050da-9d6a-436c-a7e6-e5853efdd44d"
      },
      "outputs": [
        {
          "output_type": "stream",
          "name": "stderr",
          "text": [
            "/usr/local/lib/python3.10/dist-packages/sklearn/utils/validation.py:1143: DataConversionWarning: A column-vector y was passed when a 1d array was expected. Please change the shape of y to (n_samples, ), for example using ravel().\n",
            "  y = column_or_1d(y, warn=True)\n"
          ]
        },
        {
          "output_type": "stream",
          "name": "stdout",
          "text": [
            "Accuracy: 0.7176981541802389\n",
            "Precision: 0.7530864197530864\n",
            "Recall: 0.47780678851174935\n",
            "F1-Score: 0.584664536741214\n"
          ]
        }
      ],
      "source": [
        "svm_classifier = SVC(C=1, kernel='rbf', random_state=42)\n",
        "svm_classifier.fit(X_train, y_train)\n",
        "y_pred = svm_classifier.predict(X_test)\n",
        "metrics(y_test,y_pred)"
      ]
    },
    {
      "cell_type": "markdown",
      "id": "54b0f39e",
      "metadata": {
        "id": "54b0f39e"
      },
      "source": [
        "# Part C\n"
      ]
    },
    {
      "cell_type": "code",
      "execution_count": 21,
      "id": "883ebeb4",
      "metadata": {
        "id": "883ebeb4"
      },
      "outputs": [],
      "source": [
        "Accuracy=[]\n",
        "training_accuracy=[]\n",
        "\n",
        "x_labels=['poly degree 1 c=0.01','poly degree 1 c=100','poly degree 3 c=0.01','poly degree 3 c=100']"
      ]
    },
    {
      "cell_type": "code",
      "execution_count": 22,
      "id": "11d45a85",
      "metadata": {
        "id": "11d45a85",
        "colab": {
          "base_uri": "https://localhost:8080/"
        },
        "outputId": "7914a272-0410-4a97-9a8d-7e66bc7adb3b"
      },
      "outputs": [
        {
          "output_type": "stream",
          "name": "stderr",
          "text": [
            "/usr/local/lib/python3.10/dist-packages/sklearn/utils/validation.py:1143: DataConversionWarning: A column-vector y was passed when a 1d array was expected. Please change the shape of y to (n_samples, ), for example using ravel().\n",
            "  y = column_or_1d(y, warn=True)\n"
          ]
        },
        {
          "output_type": "stream",
          "name": "stdout",
          "text": [
            "Accuracy: 0.6471226927252985\n",
            "Precision: 0.8152173913043478\n",
            "Recall: 0.195822454308094\n",
            "F1-Score: 0.3157894736842105\n"
          ]
        }
      ],
      "source": [
        "svm_classifier = SVC(C=0.01, kernel='poly',degree = 1, random_state=42)\n",
        "svm_classifier.fit(X_train, y_train)\n",
        "y_pred = svm_classifier.predict(X_test)\n",
        "metrics(y_test,y_pred)\n",
        "y_pred = svm_classifier.predict(X_train)\n",
        "training_accuracy.append(accuracy_score(y_train, y_pred))"
      ]
    },
    {
      "cell_type": "code",
      "execution_count": 23,
      "id": "9fa401ba",
      "metadata": {
        "id": "9fa401ba",
        "colab": {
          "base_uri": "https://localhost:8080/"
        },
        "outputId": "95d0ba8e-a275-48be-acdb-781ae50a4f10"
      },
      "outputs": [
        {
          "output_type": "stream",
          "name": "stderr",
          "text": [
            "/usr/local/lib/python3.10/dist-packages/sklearn/utils/validation.py:1143: DataConversionWarning: A column-vector y was passed when a 1d array was expected. Please change the shape of y to (n_samples, ), for example using ravel().\n",
            "  y = column_or_1d(y, warn=True)\n"
          ]
        },
        {
          "output_type": "stream",
          "name": "stdout",
          "text": [
            "Accuracy: 0.7861020629750272\n",
            "Precision: 0.8690476190476191\n",
            "Recall: 0.5718015665796344\n",
            "F1-Score: 0.6897637795275591\n"
          ]
        }
      ],
      "source": [
        "svm_classifier = SVC(C=100, kernel='poly',degree = 1, random_state=42)\n",
        "svm_classifier.fit(X_train, y_train)\n",
        "y_pred = svm_classifier.predict(X_test)\n",
        "metrics(y_test,y_pred)\n",
        "y_pred = svm_classifier.predict(X_train)\n",
        "training_accuracy.append(accuracy_score(y_train, y_pred))"
      ]
    },
    {
      "cell_type": "code",
      "execution_count": 24,
      "id": "bcac0f33",
      "metadata": {
        "id": "bcac0f33",
        "colab": {
          "base_uri": "https://localhost:8080/"
        },
        "outputId": "6d03922e-1391-4c73-f03e-884c14b63527"
      },
      "outputs": [
        {
          "output_type": "stream",
          "name": "stderr",
          "text": [
            "/usr/local/lib/python3.10/dist-packages/sklearn/utils/validation.py:1143: DataConversionWarning: A column-vector y was passed when a 1d array was expected. Please change the shape of y to (n_samples, ), for example using ravel().\n",
            "  y = column_or_1d(y, warn=True)\n"
          ]
        },
        {
          "output_type": "stream",
          "name": "stdout",
          "text": [
            "Accuracy: 0.6232356134636265\n",
            "Precision: 0.95\n",
            "Recall: 0.09921671018276762\n",
            "F1-Score: 0.1796690307328605\n"
          ]
        }
      ],
      "source": [
        "svm_classifier = SVC(C=0.01, kernel='poly',degree = 3, random_state=42)\n",
        "svm_classifier.fit(X_train, y_train)\n",
        "y_pred = svm_classifier.predict(X_test)\n",
        "metrics(y_test,y_pred)\n",
        "y_pred = svm_classifier.predict(X_train)\n",
        "training_accuracy.append(accuracy_score(y_train, y_pred))"
      ]
    },
    {
      "cell_type": "code",
      "execution_count": 25,
      "id": "fd7b0ef8",
      "metadata": {
        "id": "fd7b0ef8",
        "colab": {
          "base_uri": "https://localhost:8080/"
        },
        "outputId": "ae1f401d-8289-4ee9-8cbf-52d9cacdb5a8"
      },
      "outputs": [
        {
          "output_type": "stream",
          "name": "stderr",
          "text": [
            "/usr/local/lib/python3.10/dist-packages/sklearn/utils/validation.py:1143: DataConversionWarning: A column-vector y was passed when a 1d array was expected. Please change the shape of y to (n_samples, ), for example using ravel().\n",
            "  y = column_or_1d(y, warn=True)\n"
          ]
        },
        {
          "output_type": "stream",
          "name": "stdout",
          "text": [
            "Accuracy: 0.6829533116178067\n",
            "Precision: 0.9690721649484536\n",
            "Recall: 0.2454308093994778\n",
            "F1-Score: 0.39166666666666666\n"
          ]
        }
      ],
      "source": [
        "svm_classifier = SVC(C=100, kernel='poly',degree = 3, random_state=42)\n",
        "svm_classifier.fit(X_train, y_train)\n",
        "y_pred = svm_classifier.predict(X_test)\n",
        "metrics(y_test,y_pred)\n",
        "y_pred = svm_classifier.predict(X_train)\n",
        "training_accuracy.append(accuracy_score(y_train, y_pred))"
      ]
    },
    {
      "cell_type": "code",
      "execution_count": 26,
      "id": "355c1116",
      "metadata": {
        "id": "355c1116",
        "colab": {
          "base_uri": "https://localhost:8080/",
          "height": 472
        },
        "outputId": "0fd5aaf6-e940-48d8-bfa4-e2ccf7ad421f"
      },
      "outputs": [
        {
          "output_type": "display_data",
          "data": {
            "text/plain": [
              "<Figure size 640x480 with 1 Axes>"
            ],
            "image/png": "[encoded data removed]"
          },
          "metadata": {}
        }
      ],
      "source": [
        "plt.plot(x_labels, Accuracy,'green')\n",
        "plt.plot(x_labels, training_accuracy,'orange')\n",
        "plt.xlabel('parameter Label')\n",
        "plt.ylabel('Accuracy Label')\n",
        "plt.title('Line Plot Example')\n",
        "plt.show()"
      ]
    },
    {
      "cell_type": "code",
      "execution_count": null,
      "id": "7be402ca",
      "metadata": {
        "id": "7be402ca"
      },
      "outputs": [],
      "source": []
    },
    {
      "cell_type": "code",
      "execution_count": null,
      "id": "1a2691cb",
      "metadata": {
        "id": "1a2691cb"
      },
      "outputs": [],
      "source": []
    },
    {
      "cell_type": "code",
      "execution_count": null,
      "id": "c9856b89",
      "metadata": {
        "id": "c9856b89"
      },
      "outputs": [],
      "source": []
    }
  ],
  "metadata": {
    "kernelspec": {
      "display_name": "Python 3",
      "name": "python3"
    },
    "language_info": {
      "codemirror_mode": {
        "name": "ipython",
        "version": 3
      },
      "file_extension": ".py",
      "mimetype": "text/x-python",
      "name": "python",
      "nbconvert_exporter": "python",
      "pygments_lexer": "ipython3",
      "version": "3.9.1"
    },
    "colab": {
      "provenance": [],
      "gpuType": "T4"
    },
    "accelerator": "GPU"
  },
  "nbformat": 4,
  "nbformat_minor": 5
}