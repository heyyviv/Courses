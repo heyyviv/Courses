{
 "cells": [
  {
   "cell_type": "code",
   "execution_count": 1,
   "id": "3d0b027b",
   "metadata": {},
   "outputs": [],
   "source": [
    "from ucimlrepo import fetch_ucirepo\n",
    "import matplotlib.pyplot as plt\n",
    "import pandas as pd\n",
    "import numpy as np\n",
    "from sklearn import datasets\n",
    "from sklearn.model_selection import train_test_split\n",
    "from sklearn.svm import SVC\n",
    "from sklearn.metrics import accuracy_score, precision_score, recall_score, f1_score"
   ]
  },
  {
   "cell_type": "code",
   "execution_count": 2,
   "id": "221f2445",
   "metadata": {},
   "outputs": [],
   "source": [
    "# fetch dataset\n",
    "spambase = fetch_ucirepo(id=94)"
   ]
  },
  {
   "cell_type": "code",
   "execution_count": 3,
   "id": "c1827490",
   "metadata": {},
   "outputs": [],
   "source": [
    "# data (as pandas dataframes)\n",
    "X = spambase.data.features\n",
    "y = spambase.data.targets"
   ]
  },
  {
   "cell_type": "code",
   "execution_count": 4,
   "id": "5312696d",
   "metadata": {},
   "outputs": [
    {
     "name": "stdout",
     "output_type": "stream",
     "text": [
      "                          name     role        type demographic  \\\n",
      "0               word_freq_make  Feature  Continuous        None   \n",
      "1            word_freq_address  Feature  Continuous        None   \n",
      "2                word_freq_all  Feature  Continuous        None   \n",
      "3                 word_freq_3d  Feature  Continuous        None   \n",
      "4                word_freq_our  Feature  Continuous        None   \n",
      "5               word_freq_over  Feature  Continuous        None   \n",
      "6             word_freq_remove  Feature  Continuous        None   \n",
      "7           word_freq_internet  Feature  Continuous        None   \n",
      "8              word_freq_order  Feature  Continuous        None   \n",
      "9               word_freq_mail  Feature  Continuous        None   \n",
      "10           word_freq_receive  Feature  Continuous        None   \n",
      "11              word_freq_will  Feature  Continuous        None   \n",
      "12            word_freq_people  Feature  Continuous        None   \n",
      "13            word_freq_report  Feature  Continuous        None   \n",
      "14         word_freq_addresses  Feature  Continuous        None   \n",
      "15              word_freq_free  Feature  Continuous        None   \n",
      "16          word_freq_business  Feature  Continuous        None   \n",
      "17             word_freq_email  Feature  Continuous        None   \n",
      "18               word_freq_you  Feature  Continuous        None   \n",
      "19            word_freq_credit  Feature  Continuous        None   \n",
      "20              word_freq_your  Feature  Continuous        None   \n",
      "21              word_freq_font  Feature  Continuous        None   \n",
      "22               word_freq_000  Feature  Continuous        None   \n",
      "23             word_freq_money  Feature  Continuous        None   \n",
      "24                word_freq_hp  Feature  Continuous        None   \n",
      "25               word_freq_hpl  Feature  Continuous        None   \n",
      "26            word_freq_george  Feature  Continuous        None   \n",
      "27               word_freq_650  Feature  Continuous        None   \n",
      "28               word_freq_lab  Feature  Continuous        None   \n",
      "29              word_freq_labs  Feature  Continuous        None   \n",
      "30            word_freq_telnet  Feature  Continuous        None   \n",
      "31               word_freq_857  Feature  Continuous        None   \n",
      "32              word_freq_data  Feature  Continuous        None   \n",
      "33               word_freq_415  Feature  Continuous        None   \n",
      "34                word_freq_85  Feature  Continuous        None   \n",
      "35        word_freq_technology  Feature  Continuous        None   \n",
      "36              word_freq_1999  Feature  Continuous        None   \n",
      "37             word_freq_parts  Feature  Continuous        None   \n",
      "38                word_freq_pm  Feature  Continuous        None   \n",
      "39            word_freq_direct  Feature  Continuous        None   \n",
      "40                word_freq_cs  Feature  Continuous        None   \n",
      "41           word_freq_meeting  Feature  Continuous        None   \n",
      "42          word_freq_original  Feature  Continuous        None   \n",
      "43           word_freq_project  Feature  Continuous        None   \n",
      "44                word_freq_re  Feature  Continuous        None   \n",
      "45               word_freq_edu  Feature  Continuous        None   \n",
      "46             word_freq_table  Feature  Continuous        None   \n",
      "47        word_freq_conference  Feature  Continuous        None   \n",
      "48                 char_freq_;  Feature  Continuous        None   \n",
      "49                 char_freq_(  Feature  Continuous        None   \n",
      "50                 char_freq_[  Feature  Continuous        None   \n",
      "51                 char_freq_!  Feature  Continuous        None   \n",
      "52                 char_freq_$  Feature  Continuous        None   \n",
      "53                 char_freq_#  Feature  Continuous        None   \n",
      "54  capital_run_length_average  Feature  Continuous        None   \n",
      "55  capital_run_length_longest  Feature  Continuous        None   \n",
      "56    capital_run_length_total  Feature  Continuous        None   \n",
      "57                       Class   Target      Binary        None   \n",
      "\n",
      "                 description units missing_values  \n",
      "0                       None  None             no  \n",
      "1                       None  None             no  \n",
      "2                       None  None             no  \n",
      "3                       None  None             no  \n",
      "4                       None  None             no  \n",
      "5                       None  None             no  \n",
      "6                       None  None             no  \n",
      "7                       None  None             no  \n",
      "8                       None  None             no  \n",
      "9                       None  None             no  \n",
      "10                      None  None             no  \n",
      "11                      None  None             no  \n",
      "12                      None  None             no  \n",
      "13                      None  None             no  \n",
      "14                      None  None             no  \n",
      "15                      None  None             no  \n",
      "16                      None  None             no  \n",
      "17                      None  None             no  \n",
      "18                      None  None             no  \n",
      "19                      None  None             no  \n",
      "20                      None  None             no  \n",
      "21                      None  None             no  \n",
      "22                      None  None             no  \n",
      "23                      None  None             no  \n",
      "24                      None  None             no  \n",
      "25                      None  None             no  \n",
      "26                      None  None             no  \n",
      "27                      None  None             no  \n",
      "28                      None  None             no  \n",
      "29                      None  None             no  \n",
      "30                      None  None             no  \n",
      "31                      None  None             no  \n",
      "32                      None  None             no  \n",
      "33                      None  None             no  \n",
      "34                      None  None             no  \n",
      "35                      None  None             no  \n",
      "36                      None  None             no  \n",
      "37                      None  None             no  \n",
      "38                      None  None             no  \n",
      "39                      None  None             no  \n",
      "40                      None  None             no  \n",
      "41                      None  None             no  \n",
      "42                      None  None             no  \n",
      "43                      None  None             no  \n",
      "44                      None  None             no  \n",
      "45                      None  None             no  \n",
      "46                      None  None             no  \n",
      "47                      None  None             no  \n",
      "48                      None  None             no  \n",
      "49                      None  None             no  \n",
      "50                      None  None             no  \n",
      "51                      None  None             no  \n",
      "52                      None  None             no  \n",
      "53                      None  None             no  \n",
      "54                      None  None             no  \n",
      "55                      None  None             no  \n",
      "56                      None  None             no  \n",
      "57  spam (1) or not spam (0)  None             no  \n"
     ]
    }
   ],
   "source": [
    "# variable information\n",
    "print(spambase.variables)"
   ]
  },
  {
   "cell_type": "code",
   "execution_count": 5,
   "id": "43a7bafd",
   "metadata": {},
   "outputs": [],
   "source": [
    "X_train, X_test, y_train, y_test = train_test_split(X, y, test_size=0.2, random_state=41)"
   ]
  },
  {
   "cell_type": "code",
   "execution_count": 6,
   "id": "24c927e6",
   "metadata": {},
   "outputs": [],
   "source": [
    "Accuracy=[]\n",
    "regularization=[0.001,0.1,1,10,100]"
   ]
  },
  {
   "cell_type": "code",
   "execution_count": 7,
   "id": "9f206537",
   "metadata": {},
   "outputs": [
    {
     "name": "stdout",
     "output_type": "stream",
     "text": [
      "(3680, 1)\n"
     ]
    }
   ],
   "source": [
    "print(y_train.shape)\n",
    "y_train = y_train.to_numpy().ravel()\n",
    "y_test = y_test.to_numpy().ravel()"
   ]
  },
  {
   "cell_type": "code",
   "execution_count": 8,
   "id": "f77df2bc",
   "metadata": {},
   "outputs": [],
   "source": [
    "def metrics(y_test,y_pred):\n",
    "    # Calculate accuracy\n",
    "    accuracy = accuracy_score(y_test, y_pred)\n",
    "\n",
    "    # Calculate precision\n",
    "    precision = precision_score(y_test, y_pred)\n",
    "\n",
    "    # Calculate recall\n",
    "    recall = recall_score(y_test, y_pred)\n",
    "\n",
    "    # Calculate F1-score\n",
    "    f1 = f1_score(y_test, y_pred)\n",
    "\n",
    "    print(\"Accuracy:\", accuracy)\n",
    "    print(\"Precision:\", precision)\n",
    "    print(\"Recall:\", recall)\n",
    "    print(\"F1-Score:\", f1)\n",
    "    Accuracy.append(accuracy)\n",
    "\n",
    "        "
   ]
  },
  {
   "cell_type": "markdown",
   "id": "124a96df",
   "metadata": {},
   "source": [
    "<h2> Regularization 0.001 <h2>"
   ]
  },
  {
   "cell_type": "code",
   "execution_count": 9,
   "id": "f88df061",
   "metadata": {},
   "outputs": [],
   "source": [
    "svm_classifier = SVC(C=0.001, kernel='linear', random_state=42)\n",
    "svm_classifier.fit(X_train, y_train)\n",
    "y_pred = svm_classifier.predict(X_test)"
   ]
  },
  {
   "cell_type": "code",
   "execution_count": 10,
   "id": "9ef05bd9",
   "metadata": {},
   "outputs": [
    {
     "name": "stdout",
     "output_type": "stream",
     "text": [
      "Accuracy: 0.8849077090119435\n",
      "Precision: 0.9037900874635568\n",
      "Recall: 0.8093994778067886\n",
      "F1-Score: 0.8539944903581267\n"
     ]
    }
   ],
   "source": [
    "metrics(y_test,y_pred)"
   ]
  },
  {
   "cell_type": "markdown",
   "id": "1aea4ea1",
   "metadata": {},
   "source": [
    "<h2> Regularization 0.01 <h2>"
   ]
  },
  {
   "cell_type": "code",
   "execution_count": 11,
   "id": "199ca755",
   "metadata": {},
   "outputs": [],
   "source": [
    "svm_classifier = SVC(C=0.1, kernel='linear', random_state=42)\n",
    "svm_classifier.fit(X_train, y_train)\n",
    "y_pred = svm_classifier.predict(X_test)"
   ]
  },
  {
   "cell_type": "code",
   "execution_count": 12,
   "id": "3132bc59",
   "metadata": {},
   "outputs": [
    {
     "name": "stdout",
     "output_type": "stream",
     "text": [
      "Accuracy: 0.9446254071661238\n",
      "Precision: 0.9414893617021277\n",
      "Recall: 0.9242819843342036\n",
      "F1-Score: 0.932806324110672\n"
     ]
    }
   ],
   "source": [
    "metrics(y_test,y_pred)"
   ]
  },
  {
   "cell_type": "markdown",
   "id": "007505d0",
   "metadata": {},
   "source": [
    "<h2> Regularization  1 </h2>"
   ]
  },
  {
   "cell_type": "code",
   "execution_count": 13,
   "id": "fecc2656",
   "metadata": {},
   "outputs": [],
   "source": [
    "svm_classifier = SVC(C=1, kernel='linear', random_state=42)\n",
    "svm_classifier.fit(X_train, y_train)\n",
    "y_pred = svm_classifier.predict(X_test)"
   ]
  },
  {
   "cell_type": "code",
   "execution_count": 14,
   "id": "3155f825",
   "metadata": {},
   "outputs": [
    {
     "name": "stdout",
     "output_type": "stream",
     "text": [
      "Accuracy: 0.9457111834961998\n",
      "Precision: 0.9393139841688655\n",
      "Recall: 0.9295039164490861\n",
      "F1-Score: 0.9343832020997375\n"
     ]
    }
   ],
   "source": [
    "metrics(y_test,y_pred)"
   ]
  },
  {
   "cell_type": "markdown",
   "id": "33aa2a28",
   "metadata": {},
   "source": [
    "<h2> regularization 10 <h2>"
   ]
  },
  {
   "cell_type": "code",
   "execution_count": 9,
   "id": "f0da4994",
   "metadata": {},
   "outputs": [],
   "source": [
    "svm_classifier = SVC(C=10, kernel='linear', random_state=42)\n",
    "svm_classifier.fit(X_train, y_train)\n",
    "y_pred = svm_classifier.predict(X_test)"
   ]
  },
  {
   "cell_type": "code",
   "execution_count": 10,
   "id": "fee4ab70",
   "metadata": {},
   "outputs": [
    {
     "name": "stdout",
     "output_type": "stream",
     "text": [
      "Accuracy: 0.9424538545059717\n",
      "Precision: 0.9319371727748691\n",
      "Recall: 0.9295039164490861\n",
      "F1-Score: 0.930718954248366\n"
     ]
    }
   ],
   "source": [
    "metrics(y_test,y_pred)"
   ]
  },
  {
   "cell_type": "markdown",
   "id": "e702d8fe",
   "metadata": {},
   "source": [
    "<h2>  regularization 100 </h2>"
   ]
  },
  {
   "cell_type": "code",
   "execution_count": null,
   "id": "a5423e4a",
   "metadata": {},
   "outputs": [],
   "source": [
    "svm_classifier = SVC(C=100, kernel='linear', random_state=42,max_iter=1000)\n",
    "svm_classifier.fit(X_train, y_train)\n",
    "y_pred = svm_classifier.predict(X_test)"
   ]
  },
  {
   "cell_type": "code",
   "execution_count": null,
   "id": "cd71ea2f",
   "metadata": {},
   "outputs": [],
   "source": [
    "metrics(y_test,y_pred)"
   ]
  },
  {
   "cell_type": "code",
   "execution_count": null,
   "id": "659244fa",
   "metadata": {},
   "outputs": [],
   "source": [
    "plt.plot(regularization, Accuracy)\n",
    "plt.xlabel('regularization Label')\n",
    "plt.ylabel('Accuracy Label')\n",
    "plt.title('Line Plot Example')\n",
    "plt.show()"
   ]
  },
  {
   "cell_type": "markdown",
   "id": "dcc5cb44",
   "metadata": {},
   "source": [
    "# kernel Tricks"
   ]
  },
  {
   "cell_type": "code",
   "execution_count": null,
   "id": "14b14f05",
   "metadata": {},
   "outputs": [],
   "source": [
    "Accuracy=[]\n",
    "x_labels=['poly degree 2','poly degree 3','sigmoid','RBF']"
   ]
  },
  {
   "cell_type": "code",
   "execution_count": null,
   "id": "6ad72cde",
   "metadata": {},
   "outputs": [],
   "source": [
    "svm_classifier = SVC(C=1, kernel='poly',degree = 2, random_state=42)\n",
    "svm_classifier.fit(X_train, y_train)\n",
    "y_pred = svm_classifier.predict(X_test)\n",
    "metrics(y_test,y_pred)"
   ]
  },
  {
   "cell_type": "code",
   "execution_count": null,
   "id": "bd45d46e",
   "metadata": {},
   "outputs": [],
   "source": [
    "svm_classifier = SVC(C=1, kernel='poly',degree = 3, random_state=42)\n",
    "svm_classifier.fit(X_train, y_train)\n",
    "y_pred = svm_classifier.predict(X_test)\n",
    "metrics(y_test,y_pred)"
   ]
  },
  {
   "cell_type": "code",
   "execution_count": null,
   "id": "3ed4db53",
   "metadata": {},
   "outputs": [],
   "source": [
    "svm_classifier = SVC(C=1, kernel='sigmoid', gamma=0.1, coef0=0.5, random_state=42)\n",
    "svm_classifier.fit(X_train, y_train)\n",
    "y_pred = svm_classifier.predict(X_test)\n",
    "metrics(y_test,y_pred)"
   ]
  },
  {
   "cell_type": "code",
   "execution_count": null,
   "id": "b330b50d",
   "metadata": {},
   "outputs": [],
   "source": [
    "svm_classifier = SVC(C=1, kernel='rbf', random_state=42)\n",
    "svm_classifier.fit(X_train, y_train)\n",
    "y_pred = svm_classifier.predict(X_test)\n",
    "metrics(y_test,y_pred)"
   ]
  },
  {
   "cell_type": "markdown",
   "id": "54b0f39e",
   "metadata": {},
   "source": [
    "# Part C\n"
   ]
  },
  {
   "cell_type": "code",
   "execution_count": null,
   "id": "883ebeb4",
   "metadata": {},
   "outputs": [],
   "source": [
    "Accuracy=[]\n",
    "x_labels=['poly degree 1 c=0.01','poly degree 1 c=100','poly degree 3 c=0.01','poly degree 3 c=100']"
   ]
  },
  {
   "cell_type": "code",
   "execution_count": null,
   "id": "11d45a85",
   "metadata": {},
   "outputs": [],
   "source": [
    "svm_classifier = SVC(C=0.01, kernel='poly',degree = 1, random_state=42)\n",
    "svm_classifier.fit(X_train, y_train)\n",
    "y_pred = svm_classifier.predict(X_test)\n",
    "metrics(y_test,y_pred)"
   ]
  },
  {
   "cell_type": "code",
   "execution_count": null,
   "id": "9fa401ba",
   "metadata": {},
   "outputs": [],
   "source": [
    "svm_classifier = SVC(C=100, kernel='poly',degree = 1, random_state=42)\n",
    "svm_classifier.fit(X_train, y_train)\n",
    "y_pred = svm_classifier.predict(X_test)\n",
    "metrics(y_test,y_pred)"
   ]
  },
  {
   "cell_type": "code",
   "execution_count": null,
   "id": "bcac0f33",
   "metadata": {},
   "outputs": [],
   "source": [
    "svm_classifier = SVC(C=0.01, kernel='poly',degree = 3, random_state=42)\n",
    "svm_classifier.fit(X_train, y_train)\n",
    "y_pred = svm_classifier.predict(X_test)\n",
    "metrics(y_test,y_pred)"
   ]
  },
  {
   "cell_type": "code",
   "execution_count": null,
   "id": "fd7b0ef8",
   "metadata": {},
   "outputs": [],
   "source": [
    "svm_classifier = SVC(C=100, kernel='poly',degree = 3, random_state=42)\n",
    "svm_classifier.fit(X_train, y_train)\n",
    "y_pred = svm_classifier.predict(X_test)\n",
    "metrics(y_test,y_pred)"
   ]
  },
  {
   "cell_type": "code",
   "execution_count": null,
   "id": "355c1116",
   "metadata": {},
   "outputs": [],
   "source": [
    "plt.plot(x_labels, Accuracy)\n",
    "plt.xlabel('parameter Label')\n",
    "plt.ylabel('Accuracy Label')\n",
    "plt.title('Line Plot Example')\n",
    "plt.show()"
   ]
  },
  {
   "cell_type": "code",
   "execution_count": null,
   "id": "7be402ca",
   "metadata": {},
   "outputs": [],
   "source": []
  }
 ],
 "metadata": {
  "kernelspec": {
   "display_name": "Python 3",
   "language": "python",
   "name": "python3"
  },
  "language_info": {
   "codemirror_mode": {
    "name": "ipython",
    "version": 3
   },
   "file_extension": ".py",
   "mimetype": "text/x-python",
   "name": "python",
   "nbconvert_exporter": "python",
   "pygments_lexer": "ipython3",
   "version": "3.9.1"
  }
 },
 "nbformat": 4,
 "nbformat_minor": 5
}
