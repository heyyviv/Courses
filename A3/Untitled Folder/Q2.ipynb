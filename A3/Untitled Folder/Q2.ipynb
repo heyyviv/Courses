{
 "cells": [
  {
   "cell_type": "code",
   "execution_count": 87,
   "id": "acbec634",
   "metadata": {},
   "outputs": [],
   "source": [
    "from ucimlrepo import fetch_ucirepo\n",
    "import matplotlib.pyplot as plt\n",
    "import pandas as pd\n",
    "import numpy as np\n",
    "import math\n",
    "from sklearn import datasets\n",
    "from sklearn.model_selection import train_test_split\n",
    "from sklearn.svm import SVC\n",
    "from sklearn.metrics import accuracy_score, precision_score, recall_score, f1_score\n",
    "from sklearn.naive_bayes import GaussianNB\n",
    "from sklearn.metrics import roc_curve, auc"
   ]
  },
  {
   "cell_type": "code",
   "execution_count": 3,
   "id": "e5fa5fcd",
   "metadata": {},
   "outputs": [],
   "source": [
    "# fetch dataset\n",
    "spambase = fetch_ucirepo(id=94)"
   ]
  },
  {
   "cell_type": "code",
   "execution_count": 4,
   "id": "c0286814",
   "metadata": {},
   "outputs": [],
   "source": [
    "# data (as pandas dataframes)\n",
    "X = spambase.data.features\n",
    "y = spambase.data.targets"
   ]
  },
  {
   "cell_type": "code",
   "execution_count": 18,
   "id": "32b8bd3a",
   "metadata": {},
   "outputs": [],
   "source": [
    "# data (as pandas dataframes)\n",
    "X = spambase.data.features.to_numpy()\n",
    "y = spambase.data.targets.to_numpy()"
   ]
  },
  {
   "cell_type": "code",
   "execution_count": 61,
   "id": "4d971583",
   "metadata": {},
   "outputs": [],
   "source": [
    "X_train, X_temp, y_train, y_temp = train_test_split(X, y, test_size=0.3, random_state=41)\n",
    "X_val, X_test, y_val, y_test = train_test_split(X_temp, y_temp, test_size=0.5, random_state=41)\n",
    "y_train = y_train.ravel()\n",
    "y_test = y_test.ravel()\n",
    "y_val = y_val.ravel()"
   ]
  },
  {
   "cell_type": "markdown",
   "id": "276834bd",
   "metadata": {},
   "source": [
    "# Naive bayes on normal data"
   ]
  },
  {
   "cell_type": "code",
   "execution_count": 62,
   "id": "1ca204c4",
   "metadata": {},
   "outputs": [],
   "source": [
    "classes = np.unique(y_train)\n",
    "n_row,n_col = X_train.shape\n",
    "n_classes = len(classes)\n",
    "mean_np = np.zeros((2,n_col),dtype=np.float64)\n",
    "variance_np = np.zeros((2,n_col),dtype=np.float64)"
   ]
  },
  {
   "cell_type": "code",
   "execution_count": 63,
   "id": "93a21f28",
   "metadata": {},
   "outputs": [],
   "source": [
    "class_prior=np.zeros(n_classes,dtype=np.float64)\n",
    "class_prior[0]=sum(y_train==0)/n_row\n",
    "class_prior[1]=sum(y_train==1)/n_row"
   ]
  },
  {
   "cell_type": "code",
   "execution_count": 64,
   "id": "581c19f2",
   "metadata": {},
   "outputs": [],
   "source": [
    "for n_class in range(0,2):\n",
    "    sample = X_train[y_train == n_class ]\n",
    "    for cur_col in range(n_col):\n",
    "        mean_np[n_class,cur_col]=np.mean(X_train[:,cur_col])\n",
    "        variance_np[n_class,cur_col]=np.var(X_train[:,cur_col])\n",
    "        "
   ]
  },
  {
   "cell_type": "code",
   "execution_count": 65,
   "id": "67bab72f",
   "metadata": {},
   "outputs": [],
   "source": [
    "def normal_distribution(target,mean,var):\n",
    "    numerator = np.exp(- (target-mean)**2 / (2 * var))\n",
    "    denominator = np.sqrt(2 * np.pi * var)\n",
    "    return numerator/denominator"
   ]
  },
  {
   "cell_type": "code",
   "execution_count": 66,
   "id": "bf517e2f",
   "metadata": {},
   "outputs": [],
   "source": [
    "def predict(X_test):\n",
    "    n_r,n_c = X_test.shape\n",
    "    y_pred=[]\n",
    "    for i in range(n_r):\n",
    "        c_0=np.log(class_prior[0])\n",
    "        c_1=np.log(class_prior[1])\n",
    "        for col in range(n_c):\n",
    "            c_0+= np.log(normal_distribution(X_test[i][col],mean_np[0][col],variance_np[0][col]))\n",
    "            c_1+= np.log(normal_distribution(X_test[i][col],mean_np[1][col],variance_np[1][col]))\n",
    "        if(c_0<c_1):\n",
    "            y_pred.append(0)\n",
    "        else:\n",
    "            y_pred.append(1)\n",
    "    return np.array(y_pred)\n",
    "            \n",
    "    "
   ]
  },
  {
   "cell_type": "code",
   "execution_count": 67,
   "id": "c3dcbe1e",
   "metadata": {},
   "outputs": [
    {
     "name": "stderr",
     "output_type": "stream",
     "text": [
      "<ipython-input-65-0faf6e79c7ce>:2: RuntimeWarning: invalid value encountered in scalar divide\n",
      "  numerator = np.exp(- (target-mean)**2 / (2 * var))\n",
      "<ipython-input-66-71b095ccc6fc>:8: RuntimeWarning: divide by zero encountered in log\n",
      "  c_0+= np.log(normal_distribution(X_test[i][col],mean_np[0][col],variance_np[0][col]))\n",
      "<ipython-input-66-71b095ccc6fc>:9: RuntimeWarning: divide by zero encountered in log\n",
      "  c_1+= np.log(normal_distribution(X_test[i][col],mean_np[1][col],variance_np[1][col]))\n",
      "<ipython-input-65-0faf6e79c7ce>:2: RuntimeWarning: divide by zero encountered in scalar divide\n",
      "  numerator = np.exp(- (target-mean)**2 / (2 * var))\n",
      "<ipython-input-65-0faf6e79c7ce>:4: RuntimeWarning: invalid value encountered in scalar divide\n",
      "  return numerator/denominator\n"
     ]
    }
   ],
   "source": [
    "y_pred=predict(X_test)"
   ]
  },
  {
   "cell_type": "code",
   "execution_count": 68,
   "id": "ed513822",
   "metadata": {},
   "outputs": [
    {
     "name": "stdout",
     "output_type": "stream",
     "text": [
      "Accuracy: 0.3979739507959479\n",
      "Precision: 0.3979739507959479\n",
      "Recall: 1.0\n",
      "F1-Score: 0.5693581780538302\n"
     ]
    }
   ],
   "source": [
    "accuracy = accuracy_score(y_test, y_pred)\n",
    "\n",
    "# Calculate precision\n",
    "precision = precision_score(y_test, y_pred)\n",
    "\n",
    "# Calculate recall\n",
    "recall = recall_score(y_test, y_pred)\n",
    "\n",
    "# Calculate F1-score\n",
    "f1 = f1_score(y_test, y_pred)\n",
    "\n",
    "# Print the metrics\n",
    "print(f\"Accuracy: {accuracy}\")\n",
    "print(f\"Precision: {precision}\")\n",
    "print(f\"Recall: {recall}\")\n",
    "print(f\"F1-Score: {f1}\")\n"
   ]
  },
  {
   "cell_type": "markdown",
   "id": "05bcc3d4",
   "metadata": {},
   "source": [
    "# Naive Bayes after Log transformation"
   ]
  },
  {
   "cell_type": "code",
   "execution_count": 84,
   "id": "209940b2",
   "metadata": {},
   "outputs": [],
   "source": [
    "X = np.log1p(X)\n",
    "X = np.where(np.isinf(X) | np.isnan(X), 0, X)\n",
    "X_train, X_temp, y_train, y_temp = train_test_split(X, y, test_size=0.3, random_state=41)\n",
    "X_val, X_test, y_val, y_test = train_test_split(X_temp, y_temp, test_size=0.5, random_state=41)\n",
    "y_train = y_train.ravel()\n",
    "y_test = y_test.ravel()\n",
    "y_val = y_val.ravel()"
   ]
  },
  {
   "cell_type": "code",
   "execution_count": 85,
   "id": "e5ceb864",
   "metadata": {},
   "outputs": [
    {
     "name": "stderr",
     "output_type": "stream",
     "text": [
      "<ipython-input-65-0faf6e79c7ce>:2: RuntimeWarning: invalid value encountered in scalar divide\n",
      "  numerator = np.exp(- (target-mean)**2 / (2 * var))\n"
     ]
    }
   ],
   "source": [
    "y_pred=predict(X_test)"
   ]
  },
  {
   "cell_type": "code",
   "execution_count": 86,
   "id": "4ae1d302",
   "metadata": {},
   "outputs": [
    {
     "name": "stdout",
     "output_type": "stream",
     "text": [
      "Accuracy: 0.3979739507959479\n",
      "Precision: 0.3979739507959479\n",
      "Recall: 1.0\n",
      "F1-Score: 0.5693581780538302\n"
     ]
    }
   ],
   "source": [
    "accuracy = accuracy_score(y_test, y_pred)\n",
    "\n",
    "# Calculate precision\n",
    "precision = precision_score(y_test, y_pred)\n",
    "\n",
    "# Calculate recall\n",
    "recall = recall_score(y_test, y_pred)\n",
    "\n",
    "# Calculate F1-score\n",
    "f1 = f1_score(y_test, y_pred)\n",
    "\n",
    "# Print the metrics\n",
    "print(f\"Accuracy: {accuracy}\")\n",
    "print(f\"Precision: {precision}\")\n",
    "print(f\"Recall: {recall}\")\n",
    "print(f\"F1-Score: {f1}\")\n"
   ]
  },
  {
   "cell_type": "markdown",
   "id": "fbb7a574",
   "metadata": {},
   "source": [
    "# using sckit learn library"
   ]
  },
  {
   "cell_type": "code",
   "execution_count": 73,
   "id": "da0b8cdb",
   "metadata": {},
   "outputs": [
    {
     "data": {
      "text/plain": [
       "GaussianNB()"
      ]
     },
     "execution_count": 73,
     "metadata": {},
     "output_type": "execute_result"
    }
   ],
   "source": [
    "X_train, X_temp, y_train, y_temp = train_test_split(X, y, test_size=0.3, random_state=41)\n",
    "X_val, X_test, y_val, y_test = train_test_split(X_temp, y_temp, test_size=0.5, random_state=41)\n",
    "y_train = y_train.ravel()\n",
    "y_test = y_test.ravel()\n",
    "y_val = y_val.ravel()\n",
    "original_model = GaussianNB()\n",
    "original_model.fit(X_train, y_train)"
   ]
  },
  {
   "cell_type": "code",
   "execution_count": 82,
   "id": "4d8ec1fe",
   "metadata": {},
   "outputs": [
    {
     "name": "stderr",
     "output_type": "stream",
     "text": [
      "C:\\Users\\HP\\AppData\\Local\\Programs\\Python\\Python39\\lib\\site-packages\\sklearn\\utils\\validation.py:63: DataConversionWarning: A column-vector y was passed when a 1d array was expected. Please change the shape of y to (n_samples, ), for example using ravel().\n",
      "  return f(*args, **kwargs)\n"
     ]
    },
    {
     "data": {
      "text/plain": [
       "GaussianNB()"
      ]
     },
     "execution_count": 82,
     "metadata": {},
     "output_type": "execute_result"
    }
   ],
   "source": [
    "X_log = np.log1p(X)\n",
    "X_log = np.where(np.isinf(X_log) | np.isnan(X_log), 0, X_log)\n",
    "X_train_log, X_temp_log, y_train_log, y_temp_log = train_test_split(X_log, y, test_size=0.3, random_state=41)\n",
    "X_val_log, X_test_log, y_val_log, y_test_log = train_test_split(X_temp_log, y_temp_log, test_size=0.5, random_state=41)\n",
    "y_train_log = y_train_log.ravel()\n",
    "y_test_log = y_test_log.ravel()\n",
    "y_val = y_val.ravel()\n",
    "log_transformed_model = GaussianNB()\n",
    "log_transformed_model.fit(X_log, y)"
   ]
  },
  {
   "cell_type": "code",
   "execution_count": 83,
   "id": "b8bb7a95",
   "metadata": {},
   "outputs": [
    {
     "name": "stderr",
     "output_type": "stream",
     "text": [
      "C:\\Users\\HP\\AppData\\Local\\Programs\\Python\\Python39\\lib\\site-packages\\sklearn\\naive_bayes.py:452: RuntimeWarning: divide by zero encountered in log\n",
      "  n_ij = - 0.5 * np.sum(np.log(2. * np.pi * self.sigma_[i, :]))\n",
      "C:\\Users\\HP\\AppData\\Local\\Programs\\Python\\Python39\\lib\\site-packages\\sklearn\\naive_bayes.py:453: RuntimeWarning: invalid value encountered in divide\n",
      "  n_ij -= 0.5 * np.sum(((X - self.theta_[i, :]) ** 2) /\n",
      "C:\\Users\\HP\\AppData\\Local\\Programs\\Python\\Python39\\lib\\site-packages\\sklearn\\naive_bayes.py:452: RuntimeWarning: divide by zero encountered in log\n",
      "  n_ij = - 0.5 * np.sum(np.log(2. * np.pi * self.sigma_[i, :]))\n",
      "C:\\Users\\HP\\AppData\\Local\\Programs\\Python\\Python39\\lib\\site-packages\\sklearn\\naive_bayes.py:453: RuntimeWarning: invalid value encountered in divide\n",
      "  n_ij -= 0.5 * np.sum(((X - self.theta_[i, :]) ** 2) /\n"
     ]
    }
   ],
   "source": [
    "y_pred_o = original_model.predict(X_test)\n",
    "y_pred_log = log_transformed_model.predict(X_test_log) "
   ]
  },
  {
   "cell_type": "code",
   "execution_count": 88,
   "id": "6c204d2d",
   "metadata": {},
   "outputs": [],
   "source": [
    "#Calculate ROC curve and AUC for model1\n",
    "fpr1, tpr1, _ = roc_curve(y_test, y_pred_o)\n",
    "roc_auc1 = auc(fpr1, tpr1)\n",
    "\n",
    "# Calculate ROC curve and AUC for model2\n",
    "fpr2, tpr2, _ = roc_curve(y_test, y_pred_log)\n",
    "roc_auc2 = auc(fpr2, tpr2)"
   ]
  },
  {
   "cell_type": "code",
   "execution_count": 89,
   "id": "0337dfc9",
   "metadata": {},
   "outputs": [
    {
     "data": {
      "image/png": "[encoded data removed]",
      "text/plain": [
       "<Figure size 576x432 with 1 Axes>"
      ]
     },
     "metadata": {
      "needs_background": "light"
     },
     "output_type": "display_data"
    }
   ],
   "source": [
    "# Plot the ROC curves for both models\n",
    "plt.figure(figsize=(8, 6))\n",
    "plt.plot(fpr1, tpr1, color='b', lw=2, label=f'Model 1 (AUC = {roc_auc1:.2f})')\n",
    "plt.plot(fpr2, tpr2, color='r', lw=2, label=f'Model 2 (AUC = {roc_auc2:.2f})')\n",
    "\n",
    "plt.plot([0, 1], [0, 1], color='gray', lw=1, linestyle='--')\n",
    "plt.xlim([0.0, 1.0])\n",
    "plt.ylim([0.0, 1.05])\n",
    "plt.xlabel('False Positive Rate')\n",
    "plt.ylabel('True Positive Rate')\n",
    "plt.title('Receiver Operating Characteristic')\n",
    "plt.legend(loc='lower right')\n",
    "\n",
    "plt.show()"
   ]
  },
  {
   "cell_type": "code",
   "execution_count": 90,
   "id": "d763a2b9",
   "metadata": {},
   "outputs": [
    {
     "name": "stdout",
     "output_type": "stream",
     "text": [
      "Accuracy for the original model: 0.6020260492040521\n",
      "Accuracy for the log-transformed model: 0.6020260492040521\n"
     ]
    }
   ],
   "source": [
    "accuracy_original = accuracy_score(y_test, y_pred_o)\n",
    "print(f\"Accuracy for the original model: {accuracy_original}\")\n",
    "\n",
    "# Calculate accuracy for the log-transformed model\n",
    "accuracy_log_transformed = accuracy_score(y_test, y_pred_log)\n",
    "print(f\"Accuracy for the log-transformed model: {accuracy_log_transformed}\")"
   ]
  },
  {
   "cell_type": "code",
   "execution_count": null,
   "id": "668a3e3d",
   "metadata": {},
   "outputs": [],
   "source": []
  }
 ],
 "metadata": {
  "kernelspec": {
   "display_name": "Python 3",
   "language": "python",
   "name": "python3"
  },
  "language_info": {
   "codemirror_mode": {
    "name": "ipython",
    "version": 3
   },
   "file_extension": ".py",
   "mimetype": "text/x-python",
   "name": "python",
   "nbconvert_exporter": "python",
   "pygments_lexer": "ipython3",
   "version": "3.9.1"
  }
 },
 "nbformat": 4,
 "nbformat_minor": 5
}
