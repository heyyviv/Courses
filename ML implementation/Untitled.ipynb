{
 "cells": [
  {
   "cell_type": "code",
   "execution_count": 2,
   "id": "81b31614",
   "metadata": {},
   "outputs": [
    {
     "name": "stdout",
     "output_type": "stream",
     "text": [
      "         unix                 date   symbol      open      high       low  \\\n",
      "0  1646092800  2022-03-01 00:00:00  BTC/USD  43221.71  43626.49  43185.48   \n",
      "1  1646089200  2022-02-28 23:00:00  BTC/USD  43085.30  43364.81  42892.37   \n",
      "2  1646085600  2022-02-28 22:00:00  BTC/USD  41657.23  44256.08  41650.29   \n",
      "3  1646082000  2022-02-28 21:00:00  BTC/USD  41917.09  41917.09  41542.60   \n",
      "4  1646078400  2022-02-28 20:00:00  BTC/USD  41361.99  41971.00  41284.11   \n",
      "\n",
      "      close  Volume BTC    Volume USD  \n",
      "0  43312.27   52.056320  2.254677e+06  \n",
      "1  43178.98  106.816103  4.612210e+06  \n",
      "2  42907.32  527.540571  2.263535e+07  \n",
      "3  41659.53   69.751680  2.905822e+06  \n",
      "4  41914.97  247.151654  1.035935e+07  \n"
     ]
    }
   ],
   "source": [
    "import pandas as pd\n",
    "\n",
    "# Replace 'your_file_path.csv' with the actual path to your CSV file\n",
    "btc_hour = 'BTC-Hourly.csv'\n",
    "\n",
    "# Load the CSV file into a DataFrame\n",
    "df_h = pd.read_csv(file_path)\n",
    "\n",
    "# Display the first few rows of the DataFrame\n",
    "print(df.head())\n"
   ]
  },
  {
   "cell_type": "code",
   "execution_count": 5,
   "id": "e5fba769",
   "metadata": {},
   "outputs": [
    {
     "name": "stdout",
     "output_type": "stream",
     "text": [
      "         unix                 date   symbol      open      high       low  \\\n",
      "0  1646092800  2022-03-01 00:00:00  BTC/USD  43221.71  43626.49  43185.48   \n",
      "1  1646089200  2022-02-28 23:00:00  BTC/USD  43085.30  43364.81  42892.37   \n",
      "2  1646085600  2022-02-28 22:00:00  BTC/USD  41657.23  44256.08  41650.29   \n",
      "3  1646082000  2022-02-28 21:00:00  BTC/USD  41917.09  41917.09  41542.60   \n",
      "4  1646078400  2022-02-28 20:00:00  BTC/USD  41361.99  41971.00  41284.11   \n",
      "\n",
      "      close  Volume BTC    Volume USD  \n",
      "0  43312.27   52.056320  2.254677e+06  \n",
      "1  43178.98  106.816103  4.612210e+06  \n",
      "2  42907.32  527.540571  2.263535e+07  \n",
      "3  41659.53   69.751680  2.905822e+06  \n",
      "4  41914.97  247.151654  1.035935e+07  \n"
     ]
    }
   ],
   "source": [
    "# Replace 'your_file_path.csv' with the actual path to your CSV file\n",
    "btc_21 = 'BTC-2021min.csv'\n",
    "\n",
    "# Load the CSV file into a DataFrame\n",
    "df_21 = pd.read_csv(file_path)\n",
    "\n",
    "# Display the first few rows of the DataFrame\n",
    "print(df.head())"
   ]
  },
  {
   "cell_type": "code",
   "execution_count": null,
   "id": "fd172754",
   "metadata": {},
   "outputs": [],
   "source": []
  }
 ],
 "metadata": {
  "kernelspec": {
   "display_name": "Python 3",
   "language": "python",
   "name": "python3"
  },
  "language_info": {
   "codemirror_mode": {
    "name": "ipython",
    "version": 3
   },
   "file_extension": ".py",
   "mimetype": "text/x-python",
   "name": "python",
   "nbconvert_exporter": "python",
   "pygments_lexer": "ipython3",
   "version": "3.9.1"
  }
 },
 "nbformat": 4,
 "nbformat_minor": 5
}
