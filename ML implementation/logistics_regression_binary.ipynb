{
 "cells": [
  {
   "cell_type": "code",
   "execution_count": 2,
   "id": "brutal-beauty",
   "metadata": {},
   "outputs": [],
   "source": [
    "import numpy as np\n",
    "import pandas as pd\n",
    "import matplotlib.pyplot as plt\n",
    "from sklearn.datasets import make_classification"
   ]
  },
  {
   "cell_type": "code",
   "execution_count": 8,
   "id": "saved-musical",
   "metadata": {},
   "outputs": [],
   "source": [
    "X, y = make_classification(n_samples=20, n_features=2, n_informative=1,n_redundant=0,\n",
    "                           n_classes=2, n_clusters_per_class=1, random_state=41,hypercube=False,class_sep=20)"
   ]
  },
  {
   "cell_type": "code",
   "execution_count": 9,
   "id": "reported-bulgaria",
   "metadata": {},
   "outputs": [
    {
     "data": {
      "text/plain": [
       "<matplotlib.collections.PathCollection at 0x2098d12d430>"
      ]
     },
     "execution_count": 9,
     "metadata": {},
     "output_type": "execute_result"
    },
    {
     "data": {
      "image/png": "[encoded data removed]",
      "text/plain": [
       "<Figure size 720x432 with 1 Axes>"
      ]
     },
     "metadata": {
      "needs_background": "light"
     },
     "output_type": "display_data"
    }
   ],
   "source": [
    "plt.figure(figsize=(10,6))\n",
    "plt.scatter(X[:,0],X[:,1],c=y,cmap='winter',s=50)"
   ]
  },
  {
   "cell_type": "code",
   "execution_count": 18,
   "id": "unknown-nancy",
   "metadata": {},
   "outputs": [],
   "source": [
    "w=np.array([1 , 1, 1])\n",
    "training_data=np.insert(X,0,1,axis=1)"
   ]
  },
  {
   "cell_type": "code",
   "execution_count": 21,
   "id": "military-reporter",
   "metadata": {},
   "outputs": [
    {
     "data": {
      "text/plain": [
       "1.7604152053890174"
      ]
     },
     "execution_count": 21,
     "metadata": {},
     "output_type": "execute_result"
    }
   ],
   "source": [
    "np.dot(w,training_data[0])"
   ]
  },
  {
   "cell_type": "code",
   "execution_count": null,
   "id": "accomplished-secret",
   "metadata": {},
   "outputs": [],
   "source": [
    "def loss_function(training_data,w):\n",
    "    "
   ]
  }
 ],
 "metadata": {
  "kernelspec": {
   "display_name": "Python 3",
   "language": "python",
   "name": "python3"
  },
  "language_info": {
   "codemirror_mode": {
    "name": "ipython",
    "version": 3
   },
   "file_extension": ".py",
   "mimetype": "text/x-python",
   "name": "python",
   "nbconvert_exporter": "python",
   "pygments_lexer": "ipython3",
   "version": "3.9.1"
  }
 },
 "nbformat": 4,
 "nbformat_minor": 5
}
