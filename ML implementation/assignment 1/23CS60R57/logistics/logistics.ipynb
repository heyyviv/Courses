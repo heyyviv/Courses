{
 "cells": [
  {
   "cell_type": "code",
   "execution_count": 1,
   "id": "friendly-memorabilia",
   "metadata": {},
   "outputs": [],
   "source": [
    "import numpy as np\n",
    "import matplotlib.pyplot as plt\n",
    "import pandas as pd\n",
    "from sklearn.model_selection import train_test_split\n",
    "import math\n",
    "import random\n",
    "from sklearn.linear_model import LinearRegression\n",
    "from sklearn.metrics import r2_score\n",
    "from sklearn.preprocessing import StandardScaler,MinMaxScaler"
   ]
  },
  {
   "cell_type": "code",
   "execution_count": 17,
   "id": "moved-range",
   "metadata": {},
   "outputs": [],
   "source": [
    "location=r\"C:\\Users\\HP\\Desktop\\assignment 1\\23CS60R57\\logistics\\Pumpkin_Seeds_Dataset.xlsx\"\n",
    "df = pd.read_excel(r\"Pumpkin_Seeds_Dataset.xlsx\",sheet_name='Pumpkin_Seeds_Dataset')\n"
   ]
  },
  {
   "cell_type": "code",
   "execution_count": 18,
   "id": "extended-mandate",
   "metadata": {},
   "outputs": [],
   "source": [
    "df.head()\n",
    "df.insert(0, 'bias', '1')"
   ]
  },
  {
   "cell_type": "code",
   "execution_count": 19,
   "id": "entertaining-granny",
   "metadata": {},
   "outputs": [
    {
     "data": {
      "text/html": [
       "<div>\n",
       "<style scoped>\n",
       "    .dataframe tbody tr th:only-of-type {\n",
       "        vertical-align: middle;\n",
       "    }\n",
       "\n",
       "    .dataframe tbody tr th {\n",
       "        vertical-align: top;\n",
       "    }\n",
       "\n",
       "    .dataframe thead th {\n",
       "        text-align: right;\n",
       "    }\n",
       "</style>\n",
       "<table border=\"1\" class=\"dataframe\">\n",
       "  <thead>\n",
       "    <tr style=\"text-align: right;\">\n",
       "      <th></th>\n",
       "      <th>bias</th>\n",
       "      <th>Area</th>\n",
       "      <th>Perimeter</th>\n",
       "      <th>Major_Axis_Length</th>\n",
       "      <th>Minor_Axis_Length</th>\n",
       "      <th>Convex_Area</th>\n",
       "      <th>Equiv_Diameter</th>\n",
       "      <th>Eccentricity</th>\n",
       "      <th>Solidity</th>\n",
       "      <th>Extent</th>\n",
       "      <th>Roundness</th>\n",
       "      <th>Aspect_Ration</th>\n",
       "      <th>Compactness</th>\n",
       "      <th>Class</th>\n",
       "    </tr>\n",
       "  </thead>\n",
       "  <tbody>\n",
       "    <tr>\n",
       "      <th>0</th>\n",
       "      <td>1</td>\n",
       "      <td>56276</td>\n",
       "      <td>888.242</td>\n",
       "      <td>326.1485</td>\n",
       "      <td>220.2388</td>\n",
       "      <td>56831</td>\n",
       "      <td>267.6805</td>\n",
       "      <td>0.7376</td>\n",
       "      <td>0.9902</td>\n",
       "      <td>0.7453</td>\n",
       "      <td>0.8963</td>\n",
       "      <td>1.4809</td>\n",
       "      <td>0.8207</td>\n",
       "      <td>1</td>\n",
       "    </tr>\n",
       "    <tr>\n",
       "      <th>1</th>\n",
       "      <td>1</td>\n",
       "      <td>76631</td>\n",
       "      <td>1068.146</td>\n",
       "      <td>417.1932</td>\n",
       "      <td>234.2289</td>\n",
       "      <td>77280</td>\n",
       "      <td>312.3614</td>\n",
       "      <td>0.8275</td>\n",
       "      <td>0.9916</td>\n",
       "      <td>0.7151</td>\n",
       "      <td>0.8440</td>\n",
       "      <td>1.7811</td>\n",
       "      <td>0.7487</td>\n",
       "      <td>1</td>\n",
       "    </tr>\n",
       "    <tr>\n",
       "      <th>2</th>\n",
       "      <td>1</td>\n",
       "      <td>71623</td>\n",
       "      <td>1082.987</td>\n",
       "      <td>435.8328</td>\n",
       "      <td>211.0457</td>\n",
       "      <td>72663</td>\n",
       "      <td>301.9822</td>\n",
       "      <td>0.8749</td>\n",
       "      <td>0.9857</td>\n",
       "      <td>0.7400</td>\n",
       "      <td>0.7674</td>\n",
       "      <td>2.0651</td>\n",
       "      <td>0.6929</td>\n",
       "      <td>1</td>\n",
       "    </tr>\n",
       "    <tr>\n",
       "      <th>3</th>\n",
       "      <td>1</td>\n",
       "      <td>66458</td>\n",
       "      <td>992.051</td>\n",
       "      <td>381.5638</td>\n",
       "      <td>222.5322</td>\n",
       "      <td>67118</td>\n",
       "      <td>290.8899</td>\n",
       "      <td>0.8123</td>\n",
       "      <td>0.9902</td>\n",
       "      <td>0.7396</td>\n",
       "      <td>0.8486</td>\n",
       "      <td>1.7146</td>\n",
       "      <td>0.7624</td>\n",
       "      <td>1</td>\n",
       "    </tr>\n",
       "    <tr>\n",
       "      <th>4</th>\n",
       "      <td>1</td>\n",
       "      <td>66107</td>\n",
       "      <td>998.146</td>\n",
       "      <td>383.8883</td>\n",
       "      <td>220.4545</td>\n",
       "      <td>67117</td>\n",
       "      <td>290.1207</td>\n",
       "      <td>0.8187</td>\n",
       "      <td>0.9850</td>\n",
       "      <td>0.6752</td>\n",
       "      <td>0.8338</td>\n",
       "      <td>1.7413</td>\n",
       "      <td>0.7557</td>\n",
       "      <td>1</td>\n",
       "    </tr>\n",
       "  </tbody>\n",
       "</table>\n",
       "</div>"
      ],
      "text/plain": [
       "  bias   Area  Perimeter  Major_Axis_Length  Minor_Axis_Length  Convex_Area  \\\n",
       "0    1  56276    888.242           326.1485           220.2388        56831   \n",
       "1    1  76631   1068.146           417.1932           234.2289        77280   \n",
       "2    1  71623   1082.987           435.8328           211.0457        72663   \n",
       "3    1  66458    992.051           381.5638           222.5322        67118   \n",
       "4    1  66107    998.146           383.8883           220.4545        67117   \n",
       "\n",
       "   Equiv_Diameter  Eccentricity  Solidity  Extent  Roundness  Aspect_Ration  \\\n",
       "0        267.6805        0.7376    0.9902  0.7453     0.8963         1.4809   \n",
       "1        312.3614        0.8275    0.9916  0.7151     0.8440         1.7811   \n",
       "2        301.9822        0.8749    0.9857  0.7400     0.7674         2.0651   \n",
       "3        290.8899        0.8123    0.9902  0.7396     0.8486         1.7146   \n",
       "4        290.1207        0.8187    0.9850  0.6752     0.8338         1.7413   \n",
       "\n",
       "   Compactness  Class  \n",
       "0       0.8207      1  \n",
       "1       0.7487      1  \n",
       "2       0.6929      1  \n",
       "3       0.7624      1  \n",
       "4       0.7557      1  "
      ]
     },
     "execution_count": 19,
     "metadata": {},
     "output_type": "execute_result"
    }
   ],
   "source": [
    "df['Class'].replace(['Ürgüp Sivrisi','Çerçevelik'],[0, 1], inplace=True)\n",
    "df.head()"
   ]
  },
  {
   "cell_type": "code",
   "execution_count": 60,
   "id": "resident-brother",
   "metadata": {},
   "outputs": [],
   "source": [
    "data=np.array(df,dtype=float)\n",
    "scaler=StandardScaler()\n",
    "X=data[:,:13]\n",
    "Y=data[:,-1]\n",
    "X=scaler.fit_transform(X)\n",
    "X[:,0]+=1"
   ]
  },
  {
   "cell_type": "code",
   "execution_count": 61,
   "id": "running-campus",
   "metadata": {},
   "outputs": [
    {
     "name": "stdout",
     "output_type": "stream",
     "text": [
      "1250\n",
      "750\n",
      "500\n"
     ]
    }
   ],
   "source": [
    "X_train, X_temp, y_train, y_temp = train_test_split(X, Y, test_size=0.5, random_state=1)\n",
    "X_validation, X_test, y_validation, y_test = train_test_split(X_temp, y_temp, test_size=0.4, random_state=1)\n",
    "print(len(X_train))\n",
    "print(len(X_validation))\n",
    "print(len(X_test))"
   ]
  },
  {
   "cell_type": "code",
   "execution_count": 62,
   "id": "detailed-healing",
   "metadata": {},
   "outputs": [],
   "source": [
    "def sigmoid(y_predict):\n",
    "    try:\n",
    "        ans = math.exp(-1*y_predict)\n",
    "    except OverflowError:\n",
    "        ans = float('inf')\n",
    "    return 1/(1+ans)    "
   ]
  },
  {
   "cell_type": "code",
   "execution_count": 63,
   "id": "precise-slide",
   "metadata": {},
   "outputs": [],
   "source": [
    "def h(x,theta):\n",
    "    y=np.dot(x,theta)\n",
    "    return sigmoid(y)"
   ]
  },
  {
   "cell_type": "code",
   "execution_count": 64,
   "id": "bright-school",
   "metadata": {},
   "outputs": [],
   "source": [
    "def maximum_liklihood(y_predict,y):\n",
    "    loss=(y[i]*log(y_predict[i]))+(1-y[i])*log(1-y_predict[i])\n",
    "    return loss\n",
    "        "
   ]
  },
  {
   "cell_type": "code",
   "execution_count": 65,
   "id": "vanilla-recognition",
   "metadata": {},
   "outputs": [],
   "source": [
    "def accuracy(y,y_p):\n",
    "    l=len(y)\n",
    "    acc=0\n",
    "    for i in range(l):\n",
    "        acc=acc+(y[i]*(y_p[i]))+(1-y[i])*(1-(y_p[i]))\n",
    "    return acc/l\n",
    "def precision(y,y_p):\n",
    "    l=len(y)\n",
    "    tp=0\n",
    "    fp=0\n",
    "    for i in range(l):\n",
    "        tp+=y[i]*y_p[i]\n",
    "        fp+=y_p[i]*(1-y[i])\n",
    "    return tp/(tp+fp)\n",
    "def recall(y,y_p):\n",
    "    l=len(y)\n",
    "    tp=0\n",
    "    fn=0\n",
    "    for i in range(l):\n",
    "        tp=tp+y[i]*y_p[i]\n",
    "        fn=fn+(1-y_p[i])*(y[i])\n",
    "    return tp/(tp+fn)\n",
    "        "
   ]
  },
  {
   "cell_type": "code",
   "execution_count": 66,
   "id": "preliminary-witness",
   "metadata": {},
   "outputs": [],
   "source": [
    "def prediction(x,theta):\n",
    "    y=np.zeros((x.shape[0],1))\n",
    "    l=x.shape[0]\n",
    "    for i in range(l):\n",
    "        y[i]=round(h(x[i],theta))\n",
    "    return y\n"
   ]
  },
  {
   "cell_type": "code",
   "execution_count": 67,
   "id": "cathedral-labor",
   "metadata": {},
   "outputs": [],
   "source": [
    "def gradient_descent(x,y,theta,learning_rate,epochs):\n",
    "    l=len(y)\n",
    "    for _ in range(epochs):\n",
    "        for i in range(l):\n",
    "            y_predicted=h(x[i],theta)\n",
    "            if(y[i]==0):\n",
    "                y_predicted=1-y_predicted\n",
    "            loss=(y[i]-y_predicted)*learning_rate*x[i]\n",
    "            theta=theta+loss\n",
    "    return theta\n",
    "            \n",
    "            \n",
    "        \n",
    "    "
   ]
  },
  {
   "cell_type": "code",
   "execution_count": 70,
   "id": "unnecessary-surfing",
   "metadata": {},
   "outputs": [
    {
     "name": "stdout",
     "output_type": "stream",
     "text": [
      "[0. 0. 0. 0. 0. 0. 0. 0. 0. 0. 0. 0. 0.]\n",
      "[-11.62031407  -3.39857845  -7.8694635  -11.22719766   7.74231978\n",
      "  -3.34224159  -3.2408463  -12.90892479  -3.05102842   4.9310491\n",
      "  13.2551307  -14.51005648  14.05064974]\n"
     ]
    }
   ],
   "source": [
    "theta=np.zeros(X_train.shape[1])\n",
    "print(theta)\n",
    "theta=gradient_descent(X_train,y_train,theta,0.0001,300)\n",
    "print(theta)"
   ]
  },
  {
   "cell_type": "code",
   "execution_count": 71,
   "id": "coordinated-sunset",
   "metadata": {},
   "outputs": [
    {
     "name": "stdout",
     "output_type": "stream",
     "text": [
      "Accuracy [0.842]\n",
      "Precission [0.86026201]\n",
      "Recall [0.80737705]\n"
     ]
    }
   ],
   "source": [
    "predicted_y=prediction(X_test,theta)\n",
    "print(\"Accuracy \" + str(accuracy(y_test,predicted_y)))\n",
    "print(\"Precission \"+ str(precision(y_test,predicted_y)))\n",
    "print(\"Recall \"+str(recall(y_test,predicted_y)))"
   ]
  },
  {
   "cell_type": "code",
   "execution_count": null,
   "id": "romance-intent",
   "metadata": {},
   "outputs": [],
   "source": []
  },
  {
   "cell_type": "code",
   "execution_count": null,
   "id": "remarkable-recycling",
   "metadata": {},
   "outputs": [],
   "source": []
  }
 ],
 "metadata": {
  "kernelspec": {
   "display_name": "Python 3",
   "language": "python",
   "name": "python3"
  },
  "language_info": {
   "codemirror_mode": {
    "name": "ipython",
    "version": 3
   },
   "file_extension": ".py",
   "mimetype": "text/x-python",
   "name": "python",
   "nbconvert_exporter": "python",
   "pygments_lexer": "ipython3",
   "version": "3.9.1"
  }
 },
 "nbformat": 4,
 "nbformat_minor": 5
}
