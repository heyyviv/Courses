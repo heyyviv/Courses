{
 "cells": [
  {
   "cell_type": "code",
   "execution_count": 1,
   "id": "passing-jackson",
   "metadata": {},
   "outputs": [],
   "source": [
    "import numpy as np\n",
    "import matplotlib.pyplot as plt\n",
    "import pandas as pd\n",
    "from sklearn.model_selection import train_test_split\n",
    "import math\n",
    "import random\n",
    "from sklearn.linear_model import LinearRegression\n",
    "from sklearn.metrics import r2_score\n",
    "from sklearn.preprocessing import StandardScaler,MinMaxScaler"
   ]
  },
  {
   "cell_type": "code",
   "execution_count": 53,
   "id": "controlled-highway",
   "metadata": {},
   "outputs": [],
   "source": [
    "location=\"linear-regression.csv\"\n",
    "df = pd.read_csv('linear-regression.csv')\n",
    "df.insert(0, 'bias', '1')"
   ]
  },
  {
   "cell_type": "code",
   "execution_count": 54,
   "id": "cutting-easter",
   "metadata": {},
   "outputs": [
    {
     "data": {
      "text/html": [
       "<div>\n",
       "<style scoped>\n",
       "    .dataframe tbody tr th:only-of-type {\n",
       "        vertical-align: middle;\n",
       "    }\n",
       "\n",
       "    .dataframe tbody tr th {\n",
       "        vertical-align: top;\n",
       "    }\n",
       "\n",
       "    .dataframe thead th {\n",
       "        text-align: right;\n",
       "    }\n",
       "</style>\n",
       "<table border=\"1\" class=\"dataframe\">\n",
       "  <thead>\n",
       "    <tr style=\"text-align: right;\">\n",
       "      <th></th>\n",
       "      <th>bias</th>\n",
       "      <th>fixed acidity</th>\n",
       "      <th>volatile acidity</th>\n",
       "      <th>citric acid</th>\n",
       "      <th>residual sugar</th>\n",
       "      <th>chlorides</th>\n",
       "      <th>free sulfur dioxide</th>\n",
       "      <th>total sulfur dioxide</th>\n",
       "      <th>density</th>\n",
       "      <th>pH</th>\n",
       "      <th>sulphates</th>\n",
       "      <th>alcohol</th>\n",
       "      <th>quality</th>\n",
       "    </tr>\n",
       "  </thead>\n",
       "  <tbody>\n",
       "    <tr>\n",
       "      <th>0</th>\n",
       "      <td>1</td>\n",
       "      <td>7.4</td>\n",
       "      <td>0.70</td>\n",
       "      <td>0.00</td>\n",
       "      <td>1.9</td>\n",
       "      <td>0.076</td>\n",
       "      <td>11.0</td>\n",
       "      <td>34.0</td>\n",
       "      <td>0.9978</td>\n",
       "      <td>3.51</td>\n",
       "      <td>0.56</td>\n",
       "      <td>9.4</td>\n",
       "      <td>5</td>\n",
       "    </tr>\n",
       "    <tr>\n",
       "      <th>1</th>\n",
       "      <td>1</td>\n",
       "      <td>7.8</td>\n",
       "      <td>0.88</td>\n",
       "      <td>0.00</td>\n",
       "      <td>2.6</td>\n",
       "      <td>0.098</td>\n",
       "      <td>25.0</td>\n",
       "      <td>67.0</td>\n",
       "      <td>0.9968</td>\n",
       "      <td>3.20</td>\n",
       "      <td>0.68</td>\n",
       "      <td>9.8</td>\n",
       "      <td>5</td>\n",
       "    </tr>\n",
       "    <tr>\n",
       "      <th>2</th>\n",
       "      <td>1</td>\n",
       "      <td>7.8</td>\n",
       "      <td>0.76</td>\n",
       "      <td>0.04</td>\n",
       "      <td>2.3</td>\n",
       "      <td>0.092</td>\n",
       "      <td>15.0</td>\n",
       "      <td>54.0</td>\n",
       "      <td>0.9970</td>\n",
       "      <td>3.26</td>\n",
       "      <td>0.65</td>\n",
       "      <td>9.8</td>\n",
       "      <td>5</td>\n",
       "    </tr>\n",
       "    <tr>\n",
       "      <th>3</th>\n",
       "      <td>1</td>\n",
       "      <td>11.2</td>\n",
       "      <td>0.28</td>\n",
       "      <td>0.56</td>\n",
       "      <td>1.9</td>\n",
       "      <td>0.075</td>\n",
       "      <td>17.0</td>\n",
       "      <td>60.0</td>\n",
       "      <td>0.9980</td>\n",
       "      <td>3.16</td>\n",
       "      <td>0.58</td>\n",
       "      <td>9.8</td>\n",
       "      <td>6</td>\n",
       "    </tr>\n",
       "    <tr>\n",
       "      <th>4</th>\n",
       "      <td>1</td>\n",
       "      <td>7.4</td>\n",
       "      <td>0.70</td>\n",
       "      <td>0.00</td>\n",
       "      <td>1.9</td>\n",
       "      <td>0.076</td>\n",
       "      <td>11.0</td>\n",
       "      <td>34.0</td>\n",
       "      <td>0.9978</td>\n",
       "      <td>3.51</td>\n",
       "      <td>0.56</td>\n",
       "      <td>9.4</td>\n",
       "      <td>5</td>\n",
       "    </tr>\n",
       "  </tbody>\n",
       "</table>\n",
       "</div>"
      ],
      "text/plain": [
       "  bias  fixed acidity  volatile acidity  citric acid  residual sugar  \\\n",
       "0    1            7.4              0.70         0.00             1.9   \n",
       "1    1            7.8              0.88         0.00             2.6   \n",
       "2    1            7.8              0.76         0.04             2.3   \n",
       "3    1           11.2              0.28         0.56             1.9   \n",
       "4    1            7.4              0.70         0.00             1.9   \n",
       "\n",
       "   chlorides  free sulfur dioxide  total sulfur dioxide  density    pH  \\\n",
       "0      0.076                 11.0                  34.0   0.9978  3.51   \n",
       "1      0.098                 25.0                  67.0   0.9968  3.20   \n",
       "2      0.092                 15.0                  54.0   0.9970  3.26   \n",
       "3      0.075                 17.0                  60.0   0.9980  3.16   \n",
       "4      0.076                 11.0                  34.0   0.9978  3.51   \n",
       "\n",
       "   sulphates  alcohol  quality  \n",
       "0       0.56      9.4        5  \n",
       "1       0.68      9.8        5  \n",
       "2       0.65      9.8        5  \n",
       "3       0.58      9.8        6  \n",
       "4       0.56      9.4        5  "
      ]
     },
     "execution_count": 54,
     "metadata": {},
     "output_type": "execute_result"
    }
   ],
   "source": [
    "df.head()"
   ]
  },
  {
   "cell_type": "code",
   "execution_count": 55,
   "id": "motivated-oriental",
   "metadata": {},
   "outputs": [],
   "source": [
    "data=np.array(df,dtype=np.float64)"
   ]
  },
  {
   "cell_type": "code",
   "execution_count": 56,
   "id": "express-specific",
   "metadata": {},
   "outputs": [
    {
     "name": "stdout",
     "output_type": "stream",
     "text": [
      "(1599, 12)\n",
      "(1599,)\n"
     ]
    }
   ],
   "source": [
    "X=data[:,:12]\n",
    "Y=data[:,-1]\n",
    "print(X.shape)\n",
    "print(Y.shape)"
   ]
  },
  {
   "cell_type": "code",
   "execution_count": 57,
   "id": "governmental-adams",
   "metadata": {},
   "outputs": [
    {
     "data": {
      "image/png": "[encoded data removed]",
      "text/plain": [
       "<Figure size 432x288 with 1 Axes>"
      ]
     },
     "metadata": {
      "needs_background": "light"
     },
     "output_type": "display_data"
    }
   ],
   "source": [
    "plt.xlabel('x coordinates')\n",
    "plt.ylabel('quality')\n",
    "plt.plot(X[:,1:10], Y, 'bo')\n",
    "plt.show()\n"
   ]
  },
  {
   "cell_type": "code",
   "execution_count": 58,
   "id": "illegal-midwest",
   "metadata": {},
   "outputs": [],
   "source": [
    "X_train, X_temp, y_train, y_temp = train_test_split(X, Y, test_size=0.5, random_state=1)"
   ]
  },
  {
   "cell_type": "code",
   "execution_count": 59,
   "id": "labeled-amazon",
   "metadata": {},
   "outputs": [],
   "source": [
    "X_validation, X_test, y_validation, y_test = train_test_split(X_temp, y_temp, test_size=0.4, random_state=1)"
   ]
  },
  {
   "cell_type": "code",
   "execution_count": 32,
   "id": "nuclear-midwest",
   "metadata": {},
   "outputs": [
    {
     "name": "stdout",
     "output_type": "stream",
     "text": [
      "799\n",
      "480\n",
      "320\n"
     ]
    }
   ],
   "source": [
    "print(len(X_train))\n",
    "print(len(X_validation))\n",
    "print(len(X_test))"
   ]
  },
  {
   "cell_type": "code",
   "execution_count": 33,
   "id": "palestinian-profession",
   "metadata": {},
   "outputs": [],
   "source": [
    "def h(x,theta):\n",
    "    return np.round(np.matmul(x, theta))\n",
    "    '''return ans'''"
   ]
  },
  {
   "cell_type": "code",
   "execution_count": 34,
   "id": "broke-nirvana",
   "metadata": {},
   "outputs": [],
   "source": [
    "def cost_function(x, y, theta):\n",
    "    J=((h(x,theta-y)).T*(h(x,theta-y)))/(2*len(y))\n",
    "    return J\n",
    "        "
   ]
  },
  {
   "cell_type": "code",
   "execution_count": 35,
   "id": "convinced-government",
   "metadata": {},
   "outputs": [],
   "source": [
    "def accuracy(x,y,theta):\n",
    "    l=len(x)\n",
    "    correct=0\n",
    "    for i in range(0,l):\n",
    "        y_predicted=round(h(x[i],theta))\n",
    "        if(y_predicted==y[i]):\n",
    "            correct+=1\n",
    "    percentage=correct/l\n",
    "    return percentage\n",
    "    "
   ]
  },
  {
   "cell_type": "code",
   "execution_count": 36,
   "id": "consistent-dance",
   "metadata": {},
   "outputs": [],
   "source": [
    "def R_Square(x,y,theta):\n",
    "    y_mean=round(np.mean(y))\n",
    "    l=len(y)\n",
    "    numerator=0\n",
    "    denominator=0\n",
    "    for i in range(l):\n",
    "        numerator=numerator+(y[i]-(h(x[i],theta)))**2\n",
    "        denominator=denominator+(y[i]-y_mean)**2\n",
    "    value = numerator/denominator\n",
    "    return 1-value"
   ]
  },
  {
   "cell_type": "code",
   "execution_count": 37,
   "id": "opposed-negotiation",
   "metadata": {},
   "outputs": [],
   "source": [
    "def RMSE(x,y,theta):\n",
    "    l=len(y)\n",
    "    total=0\n",
    "    for i in range(l):\n",
    "        y_predicted=round(h(x[i],theta))\n",
    "        total=total+(y[i]-y_predicted)**2\n",
    "    total=total/l\n",
    "    total=math.sqrt(total)\n",
    "    return total"
   ]
  },
  {
   "cell_type": "markdown",
   "id": "southeast-bones",
   "metadata": {},
   "source": [
    "<h2>Analytical Solution<h2>"
   ]
  },
  {
   "cell_type": "code",
   "execution_count": 38,
   "id": "integral-winning",
   "metadata": {},
   "outputs": [
    {
     "name": "stdout",
     "output_type": "stream",
     "text": [
      "[ 2.33689602e+01  3.05502970e-02 -1.19741412e+00 -1.87228641e-01\n",
      "  1.17612142e-02 -1.81714527e+00  6.11854741e-03 -4.06437389e-03\n",
      " -1.90187880e+01 -4.42172779e-01  8.79804133e-01  2.64603431e-01]\n"
     ]
    }
   ],
   "source": [
    "theta = np.linalg.inv(X_train.T.dot(X_train)).dot(X_train.T).dot(y_train)\n",
    "print(theta)"
   ]
  },
  {
   "cell_type": "code",
   "execution_count": 39,
   "id": "enormous-organization",
   "metadata": {},
   "outputs": [
    {
     "name": "stdout",
     "output_type": "stream",
     "text": [
      "R_Square score on validation set 0.3252688172043011\n",
      "R_Square score on test set 0.4125\n"
     ]
    }
   ],
   "source": [
    "#validation set R_Square\n",
    "print(\"R_Square score on validation set \"+ str(R_Square(X_validation,y_validation,theta)))\n",
    "\n",
    "#test set R_Square\n",
    "R_Square(X_test,y_test,theta)\n",
    "print(\"R_Square score on test set \"+ str(R_Square(X_test,y_test,theta)))"
   ]
  },
  {
   "cell_type": "code",
   "execution_count": 40,
   "id": "caroline-sound",
   "metadata": {},
   "outputs": [
    {
     "name": "stdout",
     "output_type": "stream",
     "text": [
      "RMSE score on validation set 0.7231297716638879\n",
      "RMSE score on test set 0.6637959023675877\n"
     ]
    }
   ],
   "source": [
    "#validation set RMSE\n",
    "\n",
    "print(\"RMSE score on validation set \"+ str(RMSE(X_validation,y_validation,theta)))\n",
    "#test set RRMSE\n",
    "\n",
    "print(\"RMSE score on test set \"+ str(RMSE(X_test,y_test,theta)))"
   ]
  },
  {
   "cell_type": "markdown",
   "id": "worldwide-comparative",
   "metadata": {},
   "source": [
    "<h4> With Regularization <h4>"
   ]
  },
  {
   "cell_type": "code",
   "execution_count": 41,
   "id": "dangerous-treasure",
   "metadata": {},
   "outputs": [],
   "source": [
    "Identity_matrix = np.identity(len(X_train.T.dot(X_train)), dtype = float)\n",
    "lamda=2"
   ]
  },
  {
   "cell_type": "code",
   "execution_count": 42,
   "id": "composite-borough",
   "metadata": {},
   "outputs": [],
   "source": [
    "theta_regularised = np.linalg.inv((X_train.T.dot(X_train))+(lamda*Identity_matrix)).dot(X_train.T).dot(y_train)"
   ]
  },
  {
   "cell_type": "code",
   "execution_count": 43,
   "id": "numerous-deadline",
   "metadata": {},
   "outputs": [
    {
     "name": "stdout",
     "output_type": "stream",
     "text": [
      "R_square score on validation set 0.31720430107526887\n",
      "R_square score on test set 0.4041666666666667\n"
     ]
    }
   ],
   "source": [
    "#validation set R_square\n",
    "print(\"R_square score on validation set \"+str(R_Square(X_validation,y_validation,theta_regularised)))\n",
    "\n",
    "#test set R_square\n",
    "print(\"R_square score on test set \"+str(R_Square(X_test,y_test,theta_regularised)))"
   ]
  },
  {
   "cell_type": "code",
   "execution_count": 44,
   "id": "neutral-scotland",
   "metadata": {},
   "outputs": [
    {
     "name": "stdout",
     "output_type": "stream",
     "text": [
      "RMSE score in validation set 0.7274384280931732\n",
      "RMSE score in test set 0.6684870978560469\n"
     ]
    }
   ],
   "source": [
    "#validation set RMSE\n",
    "print(\"RMSE score in validation set \"+str(RMSE(X_validation,y_validation,theta_regularised)))\n",
    "\n",
    "#test set RMSE\n",
    "print(\"RMSE score in test set \"+str(RMSE(X_test,y_test,theta_regularised)))"
   ]
  },
  {
   "cell_type": "markdown",
   "id": "temporal-noise",
   "metadata": {},
   "source": [
    "<h1> Interative Gradient Descent <h1>"
   ]
  },
  {
   "cell_type": "code",
   "execution_count": 90,
   "id": "victorian-theorem",
   "metadata": {},
   "outputs": [],
   "source": [
    "data=np.array(df,dtype=np.float64)\n",
    "scaler=StandardScaler()\n",
    "#data=scaler.fit_transform(data)\n",
    "X=data[:,:12]\n",
    "X=scaler.fit_transform(X)\n",
    "Y=data[:,-1]\n",
    "X[:,0]+=1\n",
    "X_train, X_temp, y_train, y_temp = train_test_split(X, Y, test_size=0.5, random_state=1)\n",
    "X_validation, X_test, y_validation, y_test = train_test_split(X_temp, y_temp, test_size=0.4, random_state=1)\n",
    "#scaler=StandardScaler()\n",
    "#X_train=scaler.fit_transform(X_train)\n"
   ]
  },
  {
   "cell_type": "code",
   "execution_count": 91,
   "id": "legitimate-rugby",
   "metadata": {},
   "outputs": [],
   "source": [
    "def predict_y(x,theta):\n",
    "    t=np.dot(x,theta)\n",
    "    #t=np.round(t)\n",
    "    return t"
   ]
  },
  {
   "cell_type": "code",
   "execution_count": 92,
   "id": "neutral-advertising",
   "metadata": {},
   "outputs": [],
   "source": [
    "def total_cost(y,x,theta):\n",
    "    l=len(y)\n",
    "    total=0\n",
    "    for i in range(l):\n",
    "        y_p=predict_y(x[i],theta)\n",
    "        total+=((y[i])-y_p)**2\n",
    "    return total/(2*l)\n",
    "        "
   ]
  },
  {
   "cell_type": "code",
   "execution_count": 93,
   "id": "radio-explanation",
   "metadata": {},
   "outputs": [],
   "source": [
    "def gradient_descent(x,y,theta,learning_rate,epoch):\n",
    "    l=len(x)\n",
    "    cost=[]\n",
    "    cost_v=[]\n",
    "    y_ep=[]\n",
    "    for k in range(epoch):\n",
    "        for i in range(0,l):\n",
    "            y_p=(np.dot(x[i],theta))\n",
    "            theta=theta+learning_rate*((y[i]-y_p)*x[i])\n",
    "        cost.append(total_cost(y,x,theta))\n",
    "        cost_v.append(total_cost(y_validation,X_validation,theta))\n",
    "        y_ep.append(k+1)\n",
    "    plt.xlabel('Epochs')\n",
    "    plt.ylabel('Cost')\n",
    "    plt.plot(y_ep, cost, 'm', linewidth = \"5\")\n",
    "    plt.plot(y_ep, cost_v, 'g', linewidth = \"5\")\n",
    "    plt.show()\n",
    "    \n",
    "            \n",
    "    return theta"
   ]
  },
  {
   "cell_type": "markdown",
   "id": "occasional-mounting",
   "metadata": {},
   "source": [
    "<h1> learning rate  0.01 <h1>"
   ]
  },
  {
   "cell_type": "code",
   "execution_count": 94,
   "id": "acting-antenna",
   "metadata": {},
   "outputs": [
    {
     "name": "stdout",
     "output_type": "stream",
     "text": [
      "[1. 1. 1. 1. 1. 1. 1. 1. 1. 1. 1. 1.]\n"
     ]
    },
    {
     "data": {
      "image/png": "[encoded data removed]",
      "text/plain": [
       "<Figure size 432x288 with 1 Axes>"
      ]
     },
     "metadata": {
      "needs_background": "light"
     },
     "output_type": "display_data"
    },
    {
     "name": "stdout",
     "output_type": "stream",
     "text": [
      "[ 5.68307762e+00  7.42779733e-02 -2.29303151e-01 -1.23909719e-02\n",
      " -5.13905267e-03 -7.03088937e-02  2.87840464e-02 -1.53703192e-01\n",
      " -7.70514640e-02 -8.76434628e-02  1.92294085e-01  2.55550579e-01]\n"
     ]
    }
   ],
   "source": [
    "theta=np.ones(X_train.shape[1])\n",
    "print(theta)\n",
    "theta=gradient_descent(X_train,y_train,theta,0.01,30)\n",
    "#theta=gradient_descent(X_validation,y_validation,theta,0.001,8)\n",
    "print(theta)"
   ]
  },
  {
   "cell_type": "code",
   "execution_count": 95,
   "id": "alone-account",
   "metadata": {},
   "outputs": [
    {
     "name": "stdout",
     "output_type": "stream",
     "text": [
      "R_square score on validation set 0.303763440860215\n",
      "R_square score on test set 0.3666666666666667\n",
      "RMSE score in validation set 0.734563362367967\n",
      "RMSE score in test set 0.689202437604511\n"
     ]
    }
   ],
   "source": [
    "#validation set R_square\n",
    "print(\"R_square score on validation set \"+str(R_Square(X_validation,y_validation,theta)))\n",
    "\n",
    "#test set R_square\n",
    "print(\"R_square score on test set \"+str(R_Square(X_test,y_test,theta)))\n",
    "\n",
    "#validation set RMSE\n",
    "print(\"RMSE score in validation set \"+str(RMSE(X_validation,y_validation,theta)))\n",
    "\n",
    "#test set RMSE\n",
    "print(\"RMSE score in test set \"+str(RMSE(X_test,y_test,theta)))"
   ]
  },
  {
   "cell_type": "markdown",
   "id": "isolated-tuning",
   "metadata": {},
   "source": [
    "<h2> learning rate 0.001 <h2>"
   ]
  },
  {
   "cell_type": "code",
   "execution_count": 96,
   "id": "sufficient-representation",
   "metadata": {},
   "outputs": [
    {
     "name": "stdout",
     "output_type": "stream",
     "text": [
      "[0. 0. 0. 0. 0. 0. 0. 0. 0. 0. 0. 0.]\n"
     ]
    },
    {
     "data": {
      "image/png": "[encoded data removed]",
      "text/plain": [
       "<Figure size 432x288 with 1 Axes>"
      ]
     },
     "metadata": {
      "needs_background": "light"
     },
     "output_type": "display_data"
    },
    {
     "name": "stdout",
     "output_type": "stream",
     "text": [
      "[ 5.63665524  0.05685709 -0.22132651 -0.03177216  0.00964254 -0.08968414\n",
      "  0.05893185 -0.13502243 -0.0330949  -0.07647401  0.15153191  0.27777176]\n"
     ]
    }
   ],
   "source": [
    "theta=np.zeros(X_train.shape[1])\n",
    "print(theta)\n",
    "theta=gradient_descent(X_train,y_train,theta,0.001,200)\n",
    "#theta=gradient_descent(X_validation,y_validation,theta,0.001,8)\n",
    "print(theta)"
   ]
  },
  {
   "cell_type": "code",
   "execution_count": 97,
   "id": "appreciated-message",
   "metadata": {},
   "outputs": [
    {
     "name": "stdout",
     "output_type": "stream",
     "text": [
      "R_square score on validation set 0.3360215053763441\n",
      "R_square score on test set 0.4083333333333333\n",
      "RMSE score in validation set 0.7173446405552447\n",
      "RMSE score in test set 0.6661456297237114\n"
     ]
    }
   ],
   "source": [
    "#validation set R_square\n",
    "print(\"R_square score on validation set \"+str(R_Square(X_validation,y_validation,theta)))\n",
    "\n",
    "#test set R_square\n",
    "print(\"R_square score on test set \"+str(R_Square(X_test,y_test,theta)))\n",
    "\n",
    "#validation set RMSE\n",
    "print(\"RMSE score in validation set \"+str(RMSE(X_validation,y_validation,theta)))\n",
    "\n",
    "#test set RMSE\n",
    "print(\"RMSE score in test set \"+str(RMSE(X_test,y_test,theta)))"
   ]
  },
  {
   "cell_type": "markdown",
   "id": "adequate-struggle",
   "metadata": {},
   "source": [
    "<h2> learning rate  0.0001 <h2>"
   ]
  },
  {
   "cell_type": "code",
   "execution_count": 98,
   "id": "standard-background",
   "metadata": {},
   "outputs": [
    {
     "name": "stdout",
     "output_type": "stream",
     "text": [
      "[0. 0. 0. 0. 0. 0. 0. 0. 0. 0. 0. 0.]\n"
     ]
    },
    {
     "data": {
      "image/png": "[encoded data removed]",
      "text/plain": [
       "<Figure size 432x288 with 1 Axes>"
      ]
     },
     "metadata": {
      "needs_background": "light"
     },
     "output_type": "display_data"
    },
    {
     "name": "stdout",
     "output_type": "stream",
     "text": [
      "[ 5.63488908  0.08824518 -0.2142663  -0.03916471  0.026208   -0.08371691\n",
      "  0.0609934  -0.13011127 -0.06731938 -0.05059085  0.15313912  0.26315434]\n"
     ]
    }
   ],
   "source": [
    "theta=np.zeros(X_train.shape[1])\n",
    "print(theta)\n",
    "theta=gradient_descent(X_train,y_train,theta,0.0001,200)\n",
    "#theta=gradient_descent(X_validation,y_validation,theta,0.001,8)\n",
    "print(theta)"
   ]
  },
  {
   "cell_type": "code",
   "execution_count": 99,
   "id": "parental-september",
   "metadata": {},
   "outputs": [
    {
     "name": "stdout",
     "output_type": "stream",
     "text": [
      "R_square score on validation set 0.3252688172043011\n",
      "R_square score on test set 0.4125\n",
      "RMSE score in validation set 0.7231297716638879\n",
      "RMSE score in test set 0.6637959023675877\n"
     ]
    }
   ],
   "source": [
    "#validation set R_square\n",
    "print(\"R_square score on validation set \"+str(R_Square(X_validation,y_validation,theta)))\n",
    "\n",
    "#test set R_square\n",
    "print(\"R_square score on test set \"+str(R_Square(X_test,y_test,theta)))\n",
    "\n",
    "#validation set RMSE\n",
    "print(\"RMSE score in validation set \"+str(RMSE(X_validation,y_validation,theta)))\n",
    "\n",
    "#test set RMSE\n",
    "print(\"RMSE score in test set \"+str(RMSE(X_test,y_test,theta)))"
   ]
  },
  {
   "cell_type": "code",
   "execution_count": 82,
   "id": "premier-kingston",
   "metadata": {},
   "outputs": [
    {
     "data": {
      "text/plain": [
       "0.39137675852321896"
      ]
     },
     "execution_count": 82,
     "metadata": {},
     "output_type": "execute_result"
    }
   ],
   "source": [
    "reg = LinearRegression().fit(X_train, y_train)\n",
    "r2 = r2_score(y_test, reg.predict(X_test))\n",
    "r2\n"
   ]
  },
  {
   "cell_type": "code",
   "execution_count": null,
   "id": "appreciated-dynamics",
   "metadata": {},
   "outputs": [],
   "source": []
  }
 ],
 "metadata": {
  "kernelspec": {
   "display_name": "Python 3",
   "language": "python",
   "name": "python3"
  },
  "language_info": {
   "codemirror_mode": {
    "name": "ipython",
    "version": 3
   },
   "file_extension": ".py",
   "mimetype": "text/x-python",
   "name": "python",
   "nbconvert_exporter": "python",
   "pygments_lexer": "ipython3",
   "version": "3.9.1"
  }
 },
 "nbformat": 4,
 "nbformat_minor": 5
}
